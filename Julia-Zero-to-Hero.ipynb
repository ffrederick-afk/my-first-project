{
 "cells": [
  {
   "cell_type": "markdown",
   "id": "e07f22ce-2c08-4c8b-b48e-a688bc23df40",
   "metadata": {},
   "source": [
    "## Julia Fundamentals "
   ]
  },
  {
   "cell_type": "markdown",
   "id": "4ef5d47a-64ce-4476-95c1-4b683fb9dc92",
   "metadata": {},
   "source": [
    "In this notebook, we explore the fundamentals of the Julia programming language."
   ]
  },
  {
   "cell_type": "markdown",
   "id": "3b454eac-8ee5-4f85-bc70-6e9ac9698a94",
   "metadata": {},
   "source": [
    "### The Julia Environment\n"
   ]
  },
  {
   "cell_type": "markdown",
   "id": "b200ecc6-6ab0-4e1a-a907-e3b791a9f0f5",
   "metadata": {},
   "source": [
    "### Assignments\n",
    "In Julia, you can assign just about any type of value to a variable."
   ]
  },
  {
   "cell_type": "markdown",
   "id": "90ca18b5-8185-4acf-8b73-97eaa9794edd",
   "metadata": {},
   "source": [
    "#### Scalars\n",
    "Here is an example of assigning a scalar to a variable x."
   ]
  },
  {
   "cell_type": "code",
   "execution_count": 1,
   "id": "c569cb79-19e5-4258-a8b5-b23571704143",
   "metadata": {},
   "outputs": [
    {
     "data": {
      "text/plain": [
       "4"
      ]
     },
     "execution_count": 1,
     "metadata": {},
     "output_type": "execute_result"
    }
   ],
   "source": [
    "x = 4"
   ]
  },
  {
   "cell_type": "markdown",
   "id": "3e02cb1e-1328-4d8c-8e7e-301e3aae99f6",
   "metadata": {},
   "source": [
    "We can also assign more than one variable in the same line."
   ]
  },
  {
   "cell_type": "code",
   "execution_count": 2,
   "id": "06c9c617-ef93-449c-868d-421f6c75d349",
   "metadata": {},
   "outputs": [
    {
     "data": {
      "text/plain": [
       "(1, 2, 5)"
      ]
     },
     "execution_count": 2,
     "metadata": {},
     "output_type": "execute_result"
    }
   ],
   "source": [
    "a, A, b = 1, 2, 5 ## Assignments are case-senstive"
   ]
  },
  {
   "cell_type": "markdown",
   "id": "8383ec2a-955d-4ff2-a57a-c37487259aad",
   "metadata": {},
   "source": [
    "##### Complex Numbers Assignment\n",
    "Complex numbers can be represented in Julia using the `im` global constant, where $im^2$ = -1."
   ]
  },
  {
   "cell_type": "code",
   "execution_count": 3,
   "id": "27f0732b-c594-4704-8f48-5fa05f49781c",
   "metadata": {},
   "outputs": [
    {
     "data": {
      "text/plain": [
       "-1 + 0im"
      ]
     },
     "execution_count": 3,
     "metadata": {},
     "output_type": "execute_result"
    }
   ],
   "source": [
    "im ^ 2"
   ]
  },
  {
   "cell_type": "code",
   "execution_count": 4,
   "id": "139343b6-f846-417a-b0d1-97d678ca66cc",
   "metadata": {},
   "outputs": [
    {
     "data": {
      "text/plain": [
       "2 + 4im"
      ]
     },
     "execution_count": 4,
     "metadata": {},
     "output_type": "execute_result"
    }
   ],
   "source": [
    "y = 2 + 4*im"
   ]
  },
  {
   "cell_type": "markdown",
   "id": "64047ee0-24f3-489f-aa2c-cdaeed1996ea",
   "metadata": {},
   "source": [
    "##### Other Global Constants"
   ]
  },
  {
   "cell_type": "code",
   "execution_count": 5,
   "id": "e8ed842a-0b83-4356-9f38-29e69c290cab",
   "metadata": {},
   "outputs": [
    {
     "data": {
      "text/plain": [
       "π = 3.1415926535897..."
      ]
     },
     "execution_count": 5,
     "metadata": {},
     "output_type": "execute_result"
    }
   ],
   "source": [
    "pi"
   ]
  },
  {
   "cell_type": "code",
   "execution_count": 6,
   "id": "0039b740-96c1-4402-8dec-85a62a1c6e98",
   "metadata": {},
   "outputs": [
    {
     "data": {
      "text/plain": [
       "π = 3.1415926535897..."
      ]
     },
     "execution_count": 6,
     "metadata": {},
     "output_type": "execute_result"
    }
   ],
   "source": [
    "π"
   ]
  },
  {
   "cell_type": "code",
   "execution_count": 7,
   "id": "1b20b876-97c4-4a73-90b2-991f18fde580",
   "metadata": {},
   "outputs": [
    {
     "data": {
      "text/plain": [
       "ℯ = 2.7182818284590..."
      ]
     },
     "execution_count": 7,
     "metadata": {},
     "output_type": "execute_result"
    }
   ],
   "source": [
    "ℯ"
   ]
  },
  {
   "cell_type": "markdown",
   "id": "b3b94bc9-2efd-44b6-90be-43994aa69006",
   "metadata": {},
   "source": [
    "#### Arrays, Vectors and Matrices\n"
   ]
  },
  {
   "cell_type": "markdown",
   "id": "8299e977-9aed-4cad-a178-c4ed265c17d9",
   "metadata": {},
   "source": [
    "Here is an example of assigning a row vector."
   ]
  },
  {
   "cell_type": "code",
   "execution_count": 56,
   "id": "8f4e1afa-9783-4897-a950-0afe52430121",
   "metadata": {},
   "outputs": [
    {
     "data": {
      "text/plain": [
       "6-element Vector{Int64}:\n",
       " 1\n",
       " 2\n",
       " 3\n",
       " 4\n",
       " 5\n",
       " 6"
      ]
     },
     "execution_count": 56,
     "metadata": {},
     "output_type": "execute_result"
    }
   ],
   "source": [
    "# Row vector\n",
    "p = [1, 2, 3, 4, 5, 6]"
   ]
  },
  {
   "cell_type": "code",
   "execution_count": 57,
   "id": "7772f817-d11a-4f09-adc5-9112151721a4",
   "metadata": {},
   "outputs": [
    {
     "data": {
      "text/plain": [
       "5-element Vector{Int64}:\n",
       "  2\n",
       "  4\n",
       "  6\n",
       "  8\n",
       " 10"
      ]
     },
     "execution_count": 57,
     "metadata": {},
     "output_type": "execute_result"
    }
   ],
   "source": [
    "# Coloumn vector\n",
    "q = [2; 4; 6; 8; 10]"
   ]
  },
  {
   "cell_type": "code",
   "execution_count": 10,
   "id": "34cb05e0-d8a2-4eb9-987c-6c24bafff49c",
   "metadata": {},
   "outputs": [
    {
     "data": {
      "text/plain": [
       "3×3 Matrix{Int64}:\n",
       " 1  2  3\n",
       " 4  5  6\n",
       " 7  8  9"
      ]
     },
     "execution_count": 10,
     "metadata": {},
     "output_type": "execute_result"
    }
   ],
   "source": [
    "# Matrix\n",
    "c = [1 2 3; 4 5 6; 7 8 9]"
   ]
  },
  {
   "cell_type": "code",
   "execution_count": 11,
   "id": "d5b5a53c-6cfa-419b-a141-dc17c215e778",
   "metadata": {},
   "outputs": [
    {
     "data": {
      "text/plain": [
       "3×3 Matrix{Int64}:\n",
       " 1  2  3\n",
       " 4  5  6\n",
       " 7  8  9"
      ]
     },
     "execution_count": 11,
     "metadata": {},
     "output_type": "execute_result"
    }
   ],
   "source": [
    "C = [ 1 2 3\n",
    "    4 5 6\n",
    "    7 8 9]"
   ]
  },
  {
   "cell_type": "markdown",
   "id": "5ca83274-159c-4490-b2b5-96ce23638b40",
   "metadata": {},
   "source": [
    "We can transpose vectors and matrices using the `transpose` function or the `'` symbol."
   ]
  },
  {
   "cell_type": "code",
   "execution_count": 12,
   "id": "007b8aff-5195-4e9a-b873-b14ff8763e62",
   "metadata": {},
   "outputs": [
    {
     "data": {
      "text/plain": [
       "3×3 adjoint(::Matrix{Int64}) with eltype Int64:\n",
       " 1  4  7\n",
       " 2  5  8\n",
       " 3  6  9"
      ]
     },
     "execution_count": 12,
     "metadata": {},
     "output_type": "execute_result"
    }
   ],
   "source": [
    "C'"
   ]
  },
  {
   "cell_type": "code",
   "execution_count": 13,
   "id": "d35b9cf5-d430-4f43-b864-e396c81032ae",
   "metadata": {},
   "outputs": [
    {
     "data": {
      "text/plain": [
       "3×3 transpose(::Matrix{Int64}) with eltype Int64:\n",
       " 1  4  7\n",
       " 2  5  8\n",
       " 3  6  9"
      ]
     },
     "execution_count": 13,
     "metadata": {},
     "output_type": "execute_result"
    }
   ],
   "source": [
    "transpose(C)"
   ]
  },
  {
   "cell_type": "markdown",
   "id": "73cfad79-0648-4e48-8ad6-f67501ccae5a",
   "metadata": {},
   "source": [
    "You can retrieve any member of an array using this notation."
   ]
  },
  {
   "cell_type": "code",
   "execution_count": 14,
   "id": "111c8f54-6e79-4ee5-a913-5534749fd359",
   "metadata": {},
   "outputs": [
    {
     "data": {
      "text/plain": [
       "5"
      ]
     },
     "execution_count": 14,
     "metadata": {},
     "output_type": "execute_result"
    }
   ],
   "source": [
    "C[5]"
   ]
  },
  {
   "cell_type": "code",
   "execution_count": 15,
   "id": "7bf993ca-8447-4422-89b0-4e09c8b6e277",
   "metadata": {},
   "outputs": [
    {
     "data": {
      "text/plain": [
       "5"
      ]
     },
     "execution_count": 15,
     "metadata": {},
     "output_type": "execute_result"
    }
   ],
   "source": [
    "# Find the value at the mth row and nth column by calling C[m, n]\n",
    "C[2, 2]"
   ]
  },
  {
   "cell_type": "markdown",
   "id": "2c1fd553-c5f3-4ba6-b252-d53726d45d4d",
   "metadata": {},
   "source": [
    "A matrix filled with just ones or zeros by using the ones and zeros functions"
   ]
  },
  {
   "cell_type": "code",
   "execution_count": 16,
   "id": "0eaee895-014d-401a-9c04-70311e70099a",
   "metadata": {},
   "outputs": [
    {
     "data": {
      "text/plain": [
       "2×3 Matrix{Float64}:\n",
       " 0.0  0.0  0.0\n",
       " 0.0  0.0  0.0"
      ]
     },
     "execution_count": 16,
     "metadata": {},
     "output_type": "execute_result"
    }
   ],
   "source": [
    "E = zeros(2, 3)"
   ]
  },
  {
   "cell_type": "code",
   "execution_count": 17,
   "id": "d12d99c1-3cf3-47a5-80ed-04250ad29cb9",
   "metadata": {},
   "outputs": [
    {
     "data": {
      "text/plain": [
       "2×3 Matrix{Float64}:\n",
       " 1.0  1.0  1.0\n",
       " 1.0  1.0  1.0"
      ]
     },
     "execution_count": 17,
     "metadata": {},
     "output_type": "execute_result"
    }
   ],
   "source": [
    "F = ones(2, 3)\n"
   ]
  },
  {
   "cell_type": "markdown",
   "id": "e24c07f2-a62b-47c0-86a4-058e3e4306ac",
   "metadata": {},
   "source": [
    "#### The Colon Operator"
   ]
  },
  {
   "cell_type": "markdown",
   "id": "6ab43367-07fc-4d4b-8e95-f5b187e87bf4",
   "metadata": {},
   "source": [
    "The colon operator, also known as the range operator, a: b constructs a range from a to b."
   ]
  },
  {
   "cell_type": "code",
   "execution_count": 18,
   "id": "d1d4605e-6ef8-4080-8153-e3adedf3b67e",
   "metadata": {},
   "outputs": [
    {
     "data": {
      "text/plain": [
       "true"
      ]
     },
     "execution_count": 18,
     "metadata": {},
     "output_type": "execute_result"
    }
   ],
   "source": [
    "D = 1:4\n",
    "E = range(1, 4)\n",
    "D == E"
   ]
  },
  {
   "cell_type": "markdown",
   "id": "27a51500-1b9a-4d59-9d32-f14b01e644d0",
   "metadata": {},
   "source": [
    "Stepping a range using the colon operator."
   ]
  },
  {
   "cell_type": "code",
   "execution_count": 19,
   "id": "9bd7ce65-f671-4b16-bbb1-6cbdd979d320",
   "metadata": {},
   "outputs": [
    {
     "data": {
      "text/plain": [
       "5-element Vector{Int64}:\n",
       " 10\n",
       "  8\n",
       "  6\n",
       "  4\n",
       "  2"
      ]
     },
     "execution_count": 19,
     "metadata": {},
     "output_type": "execute_result"
    }
   ],
   "source": [
    "G = [x for x in 1: 2: 10 ]\n",
    "H = [x for x in 10: -2: 1]"
   ]
  },
  {
   "cell_type": "code",
   "execution_count": 20,
   "id": "07131f8b-5c6a-4f2c-aaee-7606513721f0",
   "metadata": {},
   "outputs": [
    {
     "data": {
      "text/plain": [
       "3×3 Matrix{Int64}:\n",
       " 1  2  3\n",
       " 4  5  6\n",
       " 7  8  9"
      ]
     },
     "execution_count": 20,
     "metadata": {},
     "output_type": "execute_result"
    }
   ],
   "source": [
    "J = [ 1 2 3\n",
    "    4 5 6\n",
    "    7 8 9]"
   ]
  },
  {
   "cell_type": "code",
   "execution_count": 21,
   "id": "45f0e704-75ed-4376-a011-e5324b847621",
   "metadata": {},
   "outputs": [
    {
     "data": {
      "text/plain": [
       "3-element Vector{Int64}:\n",
       " 2\n",
       " 5\n",
       " 8"
      ]
     },
     "execution_count": 21,
     "metadata": {},
     "output_type": "execute_result"
    }
   ],
   "source": [
    "J[:, 2]"
   ]
  },
  {
   "cell_type": "code",
   "execution_count": 22,
   "id": "e9208c2d-8df7-4535-9125-b4a219ff69a8",
   "metadata": {},
   "outputs": [
    {
     "data": {
      "text/plain": [
       "3-element Vector{Int64}:\n",
       " 8\n",
       " 6\n",
       " 4"
      ]
     },
     "execution_count": 22,
     "metadata": {},
     "output_type": "execute_result"
    }
   ],
   "source": [
    "H[2:4]"
   ]
  },
  {
   "cell_type": "markdown",
   "id": "af470356-9891-48c0-a776-90bfe77cd3ea",
   "metadata": {},
   "source": [
    "#### Variable Inquiries"
   ]
  },
  {
   "cell_type": "markdown",
   "id": "55e2a581-079f-4bb6-b88d-d6ba2e5407ed",
   "metadata": {},
   "source": [
    "To find out all the available in the namespace, we use the `varinfo()` command."
   ]
  },
  {
   "cell_type": "code",
   "execution_count": 23,
   "id": "87fa5d74-ab40-4569-84a6-313b5933c34e",
   "metadata": {},
   "outputs": [
    {
     "data": {
      "text/latex": [
       "\\begin{tabular}\n",
       "{l | r | l}\n",
       "name & size & summary \\\\\n",
       "\\hline\n",
       "A & 8 bytes & Int64 \\\\\n",
       "Base &  & Module \\\\\n",
       "C & 120 bytes & 3×3 Matrix\\{Int64\\} \\\\\n",
       "Core &  & Module \\\\\n",
       "D & 16 bytes & 4-element UnitRange\\{Int64\\} \\\\\n",
       "E & 16 bytes & 4-element UnitRange\\{Int64\\} \\\\\n",
       "F & 96 bytes & 2×3 Matrix\\{Float64\\} \\\\\n",
       "G & 80 bytes & 5-element Vector\\{Int64\\} \\\\\n",
       "H & 80 bytes & 5-element Vector\\{Int64\\} \\\\\n",
       "J & 120 bytes & 3×3 Matrix\\{Int64\\} \\\\\n",
       "Main &  & Module \\\\\n",
       "a & 8 bytes & Int64 \\\\\n",
       "b & 8 bytes & Int64 \\\\\n",
       "c & 120 bytes & 3×3 Matrix\\{Int64\\} \\\\\n",
       "p & 88 bytes & 6-element Vector\\{Int64\\} \\\\\n",
       "q & 80 bytes & 5-element Vector\\{Int64\\} \\\\\n",
       "x & 8 bytes & Int64 \\\\\n",
       "y & 16 bytes & Complex\\{Int64\\} \\\\\n",
       "\\end{tabular}\n"
      ],
      "text/markdown": [
       "| name |      size | summary                    |\n",
       "|:---- | ---------:|:-------------------------- |\n",
       "| A    |   8 bytes | Int64                      |\n",
       "| Base |           | Module                     |\n",
       "| C    | 120 bytes | 3×3 Matrix{Int64}          |\n",
       "| Core |           | Module                     |\n",
       "| D    |  16 bytes | 4-element UnitRange{Int64} |\n",
       "| E    |  16 bytes | 4-element UnitRange{Int64} |\n",
       "| F    |  96 bytes | 2×3 Matrix{Float64}        |\n",
       "| G    |  80 bytes | 5-element Vector{Int64}    |\n",
       "| H    |  80 bytes | 5-element Vector{Int64}    |\n",
       "| J    | 120 bytes | 3×3 Matrix{Int64}          |\n",
       "| Main |           | Module                     |\n",
       "| a    |   8 bytes | Int64                      |\n",
       "| b    |   8 bytes | Int64                      |\n",
       "| c    | 120 bytes | 3×3 Matrix{Int64}          |\n",
       "| p    |  88 bytes | 6-element Vector{Int64}    |\n",
       "| q    |  80 bytes | 5-element Vector{Int64}    |\n",
       "| x    |   8 bytes | Int64                      |\n",
       "| y    |  16 bytes | Complex{Int64}             |\n"
      ],
      "text/plain": [
       "  name      size summary                   \n",
       "  –––– ––––––––– ––––––––––––––––––––––––––\n",
       "  A      8 bytes Int64                     \n",
       "  Base           Module                    \n",
       "  C    120 bytes 3×3 Matrix{Int64}         \n",
       "  Core           Module                    \n",
       "  D     16 bytes 4-element UnitRange{Int64}\n",
       "  E     16 bytes 4-element UnitRange{Int64}\n",
       "  F     96 bytes 2×3 Matrix{Float64}       \n",
       "  G     80 bytes 5-element Vector{Int64}   \n",
       "  H     80 bytes 5-element Vector{Int64}   \n",
       "  J    120 bytes 3×3 Matrix{Int64}         \n",
       "  Main           Module                    \n",
       "  a      8 bytes Int64                     \n",
       "  b      8 bytes Int64                     \n",
       "  c    120 bytes 3×3 Matrix{Int64}         \n",
       "  p     88 bytes 6-element Vector{Int64}   \n",
       "  q     80 bytes 5-element Vector{Int64}   \n",
       "  x      8 bytes Int64                     \n",
       "  y     16 bytes Complex{Int64}            "
      ]
     },
     "execution_count": 23,
     "metadata": {},
     "output_type": "execute_result"
    }
   ],
   "source": [
    "varinfo()"
   ]
  },
  {
   "cell_type": "markdown",
   "id": "1065919c-dcf8-46be-b0ce-e46a7874f1c1",
   "metadata": {},
   "source": [
    "#### The linspace and logspace Function"
   ]
  },
  {
   "cell_type": "markdown",
   "id": "dce93fbb-a433-4b91-84ff-a00efa5c2699",
   "metadata": {},
   "source": [
    "To obtain a linespace, a vector of equally spaced points, in Julia, we can use the `range()` function."
   ]
  },
  {
   "cell_type": "code",
   "execution_count": 24,
   "id": "94c28d2f-0b1a-44cb-a428-50f2725c178a",
   "metadata": {},
   "outputs": [
    {
     "data": {
      "text/plain": [
       "10-element Vector{Float64}:\n",
       "  1.0\n",
       "  2.0\n",
       "  3.0\n",
       "  4.0\n",
       "  5.0\n",
       "  6.0\n",
       "  7.0\n",
       "  8.0\n",
       "  9.0\n",
       " 10.0"
      ]
     },
     "execution_count": 24,
     "metadata": {},
     "output_type": "execute_result"
    }
   ],
   "source": [
    "linespace = collect(range(1, 10, length=10))"
   ]
  },
  {
   "cell_type": "markdown",
   "id": "c490ca59-2edf-41f9-9678-79af653692dd",
   "metadata": {},
   "source": [
    "To obtain a logspace, a vector of logarithmically equally spaced points, we can raise a base to a linespace."
   ]
  },
  {
   "cell_type": "code",
   "execution_count": 25,
   "id": "f1a62143-b23c-4f4e-9472-c3d423dc6651",
   "metadata": {},
   "outputs": [
    {
     "data": {
      "text/plain": [
       "10-element Vector{Float64}:\n",
       "     10.0\n",
       "    100.0\n",
       "   1000.0\n",
       "  10000.0\n",
       " 100000.0\n",
       "      1.0e6\n",
       "      1.0e7\n",
       "      1.0e8\n",
       "      1.0e9\n",
       "      1.0e10"
      ]
     },
     "execution_count": 25,
     "metadata": {},
     "output_type": "execute_result"
    }
   ],
   "source": [
    "base = 10\n",
    "logspace = base .^ range(1, 10, length=10)"
   ]
  },
  {
   "cell_type": "markdown",
   "id": "360643a1-a5c0-4156-acb6-5a045be1fe8b",
   "metadata": {},
   "source": [
    "### Mathematical Operations"
   ]
  },
  {
   "cell_type": "markdown",
   "id": "2b3567ee-eac6-4fde-a8e7-b87556aca879",
   "metadata": {},
   "source": [
    "#### Traditional Arithmetic\n"
   ]
  },
  {
   "cell_type": "code",
   "execution_count": 26,
   "id": "020ebeeb-9ea3-4ab7-8c5e-c8f31cd01537",
   "metadata": {},
   "outputs": [
    {
     "data": {
      "text/plain": [
       "-88 - 16im"
      ]
     },
     "execution_count": 26,
     "metadata": {},
     "output_type": "execute_result"
    }
   ],
   "source": [
    "# Define some complex numbers\n",
    "z1 = 2 + 4*im\n",
    "z2 = 3 + 5*im\n",
    "\n",
    "# Addition\n",
    "sum = 2 + 4\n",
    "complex_sum = z1 + z2\n",
    "\n",
    "# Subtraction\n",
    "complex_diff = z2 - z1\n",
    "\n",
    "# Multiplication\n",
    "complex_prod = z1 * z2\n",
    "\n",
    "# Division\n",
    "complex_quotient = z1 / z2\n",
    "\n",
    "# Inverse Division\n",
    "complex_quotient_two = z2 \\ z1\n",
    "\n",
    "complex_quotient == complex_quotient_two\n",
    "\n",
    "# Negation\n",
    "complex_neg = -z1\n",
    "\n",
    "# Exponents\n",
    "z1_cubed = z1 ^ 3"
   ]
  },
  {
   "cell_type": "markdown",
   "id": "18b78354-ecfc-4a8b-a33d-d8d3f0d67ca8",
   "metadata": {},
   "source": [
    "#### Vector Arithmetic\n",
    "\n"
   ]
  },
  {
   "cell_type": "code",
   "execution_count": 27,
   "id": "327dac01-494b-4f7f-ad45-9d323ce75ece",
   "metadata": {},
   "outputs": [
    {
     "data": {
      "text/plain": [
       "3-element Vector{Int64}:\n",
       "  4\n",
       "  8\n",
       " 12"
      ]
     },
     "execution_count": 27,
     "metadata": {},
     "output_type": "execute_result"
    }
   ],
   "source": [
    "using LinearAlgebra\n",
    "# define two vectors\n",
    "vector_one = [2, 4, 6]\n",
    "vector_two = [3, 5, 7]\n",
    "\n",
    "# Addition\n",
    "vector_sum = vector_one + vector_two\n",
    "\n",
    "# Subtraction\n",
    "vector_diff = vector_two - vector_one\n",
    "\n",
    "# Multiplication\n",
    "vector_dot_product = dot(vector_one, vector_two)\n",
    "vector_scalar_product = 2 * vector_one\n"
   ]
  },
  {
   "cell_type": "markdown",
   "id": "d365bd91-3e48-415d-9424-b988d228ad79",
   "metadata": {},
   "source": [
    "#### Vector-Matrix Operations\n",
    "NB:\n",
    "\n",
    "The vector outer product or vector matrix product is the multiplication of a column vector by a row vector to obtain a matrix."
   ]
  },
  {
   "cell_type": "code",
   "execution_count": 28,
   "id": "e88b177a-14c8-4a84-bc17-7cc9cc1cb337",
   "metadata": {},
   "outputs": [
    {
     "data": {
      "text/plain": [
       "3×3 Matrix{Int64}:\n",
       "  6  10  14\n",
       " 12  20  28\n",
       " 18  30  42"
      ]
     },
     "execution_count": 28,
     "metadata": {},
     "output_type": "execute_result"
    }
   ],
   "source": [
    "# Outer Product\n",
    "vector_outer_product = vector_one * vector_two'"
   ]
  },
  {
   "cell_type": "markdown",
   "id": "3543f9a8-8463-40b7-89bd-ad0ff667168e",
   "metadata": {},
   "source": [
    "### Use of Built-In Functions"
   ]
  },
  {
   "cell_type": "markdown",
   "id": "99d21dac-33d6-49f2-bbca-54346363862d",
   "metadata": {},
   "source": [
    "#### Help Function\n",
    "##### Syntax: ?func"
   ]
  },
  {
   "cell_type": "code",
   "execution_count": 29,
   "id": "2011c6a9-988b-4205-9d26-9092cb2221df",
   "metadata": {},
   "outputs": [
    {
     "name": "stdout",
     "output_type": "stream",
     "text": [
      "search: \u001b[0m\u001b[1mr\u001b[22m\u001b[0m\u001b[1ma\u001b[22m\u001b[0m\u001b[1mn\u001b[22m\u001b[0m\u001b[1mg\u001b[22m\u001b[0m\u001b[1me\u001b[22m log\u001b[0m\u001b[1mr\u001b[22m\u001b[0m\u001b[1ma\u001b[22m\u001b[0m\u001b[1mn\u001b[22m\u001b[0m\u001b[1mg\u001b[22m\u001b[0m\u001b[1me\u001b[22m \u001b[0m\u001b[1mr\u001b[22m\u001b[0m\u001b[1ma\u001b[22m\u001b[0m\u001b[1mn\u001b[22md \u001b[0m\u001b[1mr\u001b[22m\u001b[0m\u001b[1ma\u001b[22m\u001b[0m\u001b[1mn\u001b[22mdn angle \u001b[0m\u001b[1mr\u001b[22m\u001b[0m\u001b[1ma\u001b[22m\u001b[0m\u001b[1mn\u001b[22mk Lin\u001b[0m\u001b[1mR\u001b[22m\u001b[0m\u001b[1ma\u001b[22m\u001b[0m\u001b[1mn\u001b[22m\u001b[0m\u001b[1mg\u001b[22m\u001b[0m\u001b[1me\u001b[22m\n",
      "\n"
     ]
    },
    {
     "data": {
      "text/markdown": [
       "```\n",
       "range(start, stop, length)\n",
       "range(start, stop; length, step)\n",
       "range(start; length, stop, step)\n",
       "range(;start, length, stop, step)\n",
       "```\n",
       "\n",
       "Construct a specialized array with evenly spaced elements and optimized storage (an [`AbstractRange`](@ref)) from the arguments. Mathematically a range is uniquely determined by any three of `start`, `step`, `stop` and `length`. Valid invocations of range are:\n",
       "\n",
       "  * Call `range` with any three of `start`, `step`, `stop`, `length`.\n",
       "  * Call `range` with two of `start`, `stop`, `length`. In this case `step` will be assumed to be one. If both arguments are Integers, a [`UnitRange`](@ref) will be returned.\n",
       "  * Call `range` with one of `stop` or `length`. `start` and `step` will be assumed to be one.\n",
       "\n",
       "See Extended Help for additional details on the returned type. See also [`logrange`](@ref) for logarithmically spaced points.\n",
       "\n",
       "# Examples\n",
       "\n",
       "```jldoctest\n",
       "julia> range(1, length=100)\n",
       "1:100\n",
       "\n",
       "julia> range(1, stop=100)\n",
       "1:100\n",
       "\n",
       "julia> range(1, step=5, length=100)\n",
       "1:5:496\n",
       "\n",
       "julia> range(1, step=5, stop=100)\n",
       "1:5:96\n",
       "\n",
       "julia> range(1, 10, length=101)\n",
       "1.0:0.09:10.0\n",
       "\n",
       "julia> range(1, 100, step=5)\n",
       "1:5:96\n",
       "\n",
       "julia> range(stop=10, length=5)\n",
       "6:10\n",
       "\n",
       "julia> range(stop=10, step=1, length=5)\n",
       "6:1:10\n",
       "\n",
       "julia> range(start=1, step=1, stop=10)\n",
       "1:1:10\n",
       "\n",
       "julia> range(; length = 10)\n",
       "Base.OneTo(10)\n",
       "\n",
       "julia> range(; stop = 6)\n",
       "Base.OneTo(6)\n",
       "\n",
       "julia> range(; stop = 6.5)\n",
       "1.0:1.0:6.0\n",
       "```\n",
       "\n",
       "If `length` is not specified and `stop - start` is not an integer multiple of `step`, a range that ends before `stop` will be produced.\n",
       "\n",
       "```jldoctest\n",
       "julia> range(1, 3.5, step=2)\n",
       "1.0:2.0:3.0\n",
       "```\n",
       "\n",
       "Special care is taken to ensure intermediate values are computed rationally. To avoid this induced overhead, see the [`LinRange`](@ref) constructor.\n",
       "\n",
       "!!! compat \"Julia 1.1\"\n",
       "    `stop` as a positional argument requires at least Julia 1.1.\n",
       "\n",
       "\n",
       "!!! compat \"Julia 1.7\"\n",
       "    The versions without keyword arguments and `start` as a keyword argument require at least Julia 1.7.\n",
       "\n",
       "\n",
       "!!! compat \"Julia 1.8\"\n",
       "    The versions with `stop` as a sole keyword argument, or `length` as a sole keyword argument require at least Julia 1.8.\n",
       "\n",
       "\n",
       "---\n",
       "\n",
       "REPL.Message(\"Extended help is available with `??range`\", (color = :cyan, bold = true))\n"
      ],
      "text/plain": [
       "\u001b[36m  range(start, stop, length)\u001b[39m\n",
       "\u001b[36m  range(start, stop; length, step)\u001b[39m\n",
       "\u001b[36m  range(start; length, stop, step)\u001b[39m\n",
       "\u001b[36m  range(;start, length, stop, step)\u001b[39m\n",
       "\n",
       "  Construct a specialized array with evenly spaced elements and optimized\n",
       "  storage (an \u001b[36mAbstractRange\u001b[39m) from the arguments. Mathematically a range is\n",
       "  uniquely determined by any three of \u001b[36mstart\u001b[39m, \u001b[36mstep\u001b[39m, \u001b[36mstop\u001b[39m and \u001b[36mlength\u001b[39m. Valid\n",
       "  invocations of range are:\n",
       "\n",
       "    •  Call \u001b[36mrange\u001b[39m with any three of \u001b[36mstart\u001b[39m, \u001b[36mstep\u001b[39m, \u001b[36mstop\u001b[39m, \u001b[36mlength\u001b[39m.\n",
       "\n",
       "    •  Call \u001b[36mrange\u001b[39m with two of \u001b[36mstart\u001b[39m, \u001b[36mstop\u001b[39m, \u001b[36mlength\u001b[39m. In this case \u001b[36mstep\u001b[39m will\n",
       "       be assumed to be one. If both arguments are Integers, a \u001b[36mUnitRange\u001b[39m\n",
       "       will be returned.\n",
       "\n",
       "    •  Call \u001b[36mrange\u001b[39m with one of \u001b[36mstop\u001b[39m or \u001b[36mlength\u001b[39m. \u001b[36mstart\u001b[39m and \u001b[36mstep\u001b[39m will be\n",
       "       assumed to be one.\n",
       "\n",
       "  See Extended Help for additional details on the returned type. See also\n",
       "  \u001b[36mlogrange\u001b[39m for logarithmically spaced points.\n",
       "\n",
       "\u001b[1m  Examples\u001b[22m\n",
       "\u001b[1m  ≡≡≡≡≡≡≡≡\u001b[22m\n",
       "\n",
       "\u001b[36m  julia> range(1, length=100)\u001b[39m\n",
       "\u001b[36m  1:100\u001b[39m\n",
       "\u001b[36m  \u001b[39m\n",
       "\u001b[36m  julia> range(1, stop=100)\u001b[39m\n",
       "\u001b[36m  1:100\u001b[39m\n",
       "\u001b[36m  \u001b[39m\n",
       "\u001b[36m  julia> range(1, step=5, length=100)\u001b[39m\n",
       "\u001b[36m  1:5:496\u001b[39m\n",
       "\u001b[36m  \u001b[39m\n",
       "\u001b[36m  julia> range(1, step=5, stop=100)\u001b[39m\n",
       "\u001b[36m  1:5:96\u001b[39m\n",
       "\u001b[36m  \u001b[39m\n",
       "\u001b[36m  julia> range(1, 10, length=101)\u001b[39m\n",
       "\u001b[36m  1.0:0.09:10.0\u001b[39m\n",
       "\u001b[36m  \u001b[39m\n",
       "\u001b[36m  julia> range(1, 100, step=5)\u001b[39m\n",
       "\u001b[36m  1:5:96\u001b[39m\n",
       "\u001b[36m  \u001b[39m\n",
       "\u001b[36m  julia> range(stop=10, length=5)\u001b[39m\n",
       "\u001b[36m  6:10\u001b[39m\n",
       "\u001b[36m  \u001b[39m\n",
       "\u001b[36m  julia> range(stop=10, step=1, length=5)\u001b[39m\n",
       "\u001b[36m  6:1:10\u001b[39m\n",
       "\u001b[36m  \u001b[39m\n",
       "\u001b[36m  julia> range(start=1, step=1, stop=10)\u001b[39m\n",
       "\u001b[36m  1:1:10\u001b[39m\n",
       "\u001b[36m  \u001b[39m\n",
       "\u001b[36m  julia> range(; length = 10)\u001b[39m\n",
       "\u001b[36m  Base.OneTo(10)\u001b[39m\n",
       "\u001b[36m  \u001b[39m\n",
       "\u001b[36m  julia> range(; stop = 6)\u001b[39m\n",
       "\u001b[36m  Base.OneTo(6)\u001b[39m\n",
       "\u001b[36m  \u001b[39m\n",
       "\u001b[36m  julia> range(; stop = 6.5)\u001b[39m\n",
       "\u001b[36m  1.0:1.0:6.0\u001b[39m\n",
       "\n",
       "  If \u001b[36mlength\u001b[39m is not specified and \u001b[36mstop - start\u001b[39m is not an integer multiple of\n",
       "  \u001b[36mstep\u001b[39m, a range that ends before \u001b[36mstop\u001b[39m will be produced.\n",
       "\n",
       "\u001b[36m  julia> range(1, 3.5, step=2)\u001b[39m\n",
       "\u001b[36m  1.0:2.0:3.0\u001b[39m\n",
       "\n",
       "  Special care is taken to ensure intermediate values are computed rationally.\n",
       "  To avoid this induced overhead, see the \u001b[36mLinRange\u001b[39m constructor.\n",
       "\n",
       "\u001b[39m\u001b[1m  │ \u001b[22m\u001b[39m\u001b[1mJulia 1.1\u001b[22m\n",
       "\u001b[39m\u001b[1m  │\u001b[22m\n",
       "\u001b[39m\u001b[1m  │\u001b[22m  \u001b[36mstop\u001b[39m as a positional argument requires at least Julia 1.1.\n",
       "\n",
       "\u001b[39m\u001b[1m  │ \u001b[22m\u001b[39m\u001b[1mJulia 1.7\u001b[22m\n",
       "\u001b[39m\u001b[1m  │\u001b[22m\n",
       "\u001b[39m\u001b[1m  │\u001b[22m  The versions without keyword arguments and \u001b[36mstart\u001b[39m as a keyword\n",
       "\u001b[39m\u001b[1m  │\u001b[22m  argument require at least Julia 1.7.\n",
       "\n",
       "\u001b[39m\u001b[1m  │ \u001b[22m\u001b[39m\u001b[1mJulia 1.8\u001b[22m\n",
       "\u001b[39m\u001b[1m  │\u001b[22m\n",
       "\u001b[39m\u001b[1m  │\u001b[22m  The versions with \u001b[36mstop\u001b[39m as a sole keyword argument, or \u001b[36mlength\u001b[39m as a\n",
       "\u001b[39m\u001b[1m  │\u001b[22m  sole keyword argument require at least Julia 1.8.\n",
       "\n",
       "  ────────────────────────────────────────────────────────────────────────────\n",
       "\n",
       "\u001b[36m\u001b[1mExtended help is available with `??range`\u001b[22m\u001b[39m"
      ]
     },
     "execution_count": 29,
     "metadata": {},
     "output_type": "execute_result"
    }
   ],
   "source": [
    "?range\n"
   ]
  },
  {
   "cell_type": "markdown",
   "id": "fa3565e6-3fdb-4f77-98b3-b2bbb526116b",
   "metadata": {},
   "source": [
    "#### Operations on Vectors\n",
    "One of the advantageous features of Julia is the ability to carry out operations on entire vector and matrix quantities.\n",
    "\n",
    "Consider this scenario:\n",
    "\n",
    "Given the differential equation:\n",
    " - $\\frac{dv}{dt} = g - \\frac{c_d}{m}~v^2$,\n",
    "\n",
    "with corresponding analytical solution:\n",
    "- $ v(t) = \\sqrt{\\frac{g~m}{c_d}}\\tanh{(\\sqrt{\\frac{g~c_d}{m}}~t)}$\n",
    "\n",
    "find the velocity every two seconds for the first ten seconds."
   ]
  },
  {
   "cell_type": "code",
   "execution_count": 30,
   "id": "ab780af6-132b-4674-81dc-b3467f18616f",
   "metadata": {},
   "outputs": [
    {
     "data": {
      "text/plain": [
       "6-element Vector{Float64}:\n",
       "  0.0\n",
       " 18.729188845697276\n",
       " 33.11182503524822\n",
       " 42.07622705649872\n",
       " 46.95749512898513\n",
       " 49.42136691869133"
      ]
     },
     "execution_count": 30,
     "metadata": {},
     "output_type": "execute_result"
    }
   ],
   "source": [
    "# Define Time Vector\n",
    "t = [0: 2: 10;]\n",
    "\n",
    "# Define Params\n",
    "g, m, cd = 9.81, 68.1, 0.25\n",
    "\n",
    "# find the velocity at each time step\n",
    "v = sqrt(g*m/cd)*tanh.(sqrt(g*cd/m)*t)"
   ]
  },
  {
   "cell_type": "markdown",
   "id": "c790893e-6aa2-47b6-975b-dd42034fa398",
   "metadata": {},
   "source": [
    "### Graphics"
   ]
  },
  {
   "cell_type": "code",
   "execution_count": 31,
   "id": "1a86cd6e-dd8d-4e8e-ad15-2f87bb55bbcf",
   "metadata": {},
   "outputs": [
    {
     "data": {
      "image/png": "[encoded data removed]",
      "image/svg+xml": [
       "<?xml version=\"1.0\" encoding=\"utf-8\"?>\n",
       "<svg xmlns=\"http://www.w3.org/2000/svg\" xmlns:xlink=\"http://www.w3.org/1999/xlink\" width=\"600\" height=\"400\" viewBox=\"0 0 2400 1600\">\n",
       "<defs>\n",
       "  <clipPath id=\"clip620\">\n",
       "    <rect x=\"0\" y=\"0\" width=\"2400\" height=\"1600\"/>\n",
       "  </clipPath>\n",
       "</defs>\n",
       "<path clip-path=\"url(#clip620)\" d=\"M0 1600 L2400 1600 L2400 8.88178e-14 L0 8.88178e-14  Z\" fill=\"#ffffff\" fill-rule=\"evenodd\" fill-opacity=\"1\"/>\n",
       "<defs>\n",
       "  <clipPath id=\"clip621\">\n",
       "    <rect x=\"480\" y=\"0\" width=\"1681\" height=\"1600\"/>\n",
       "  </clipPath>\n",
       "</defs>\n",
       "<path clip-path=\"url(#clip620)\" d=\"M205.121 1423.18 L2352.76 1423.18 L2352.76 123.472 L205.121 123.472  Z\" fill=\"#ffffff\" fill-rule=\"evenodd\" fill-opacity=\"1\"/>\n",
       "<defs>\n",
       "  <clipPath id=\"clip622\">\n",
       "    <rect x=\"205\" y=\"123\" width=\"2149\" height=\"1301\"/>\n",
       "  </clipPath>\n",
       "</defs>\n",
       "<polyline clip-path=\"url(#clip622)\" style=\"stroke:#000000; stroke-linecap:round; stroke-linejoin:round; stroke-width:2; stroke-opacity:0.1; fill:none\" points=\"265.903,1423.18 265.903,123.472 \"/>\n",
       "<polyline clip-path=\"url(#clip622)\" style=\"stroke:#000000; stroke-linecap:round; stroke-linejoin:round; stroke-width:2; stroke-opacity:0.1; fill:none\" points=\"772.421,1423.18 772.421,123.472 \"/>\n",
       "<polyline clip-path=\"url(#clip622)\" style=\"stroke:#000000; stroke-linecap:round; stroke-linejoin:round; stroke-width:2; stroke-opacity:0.1; fill:none\" points=\"1278.94,1423.18 1278.94,123.472 \"/>\n",
       "<polyline clip-path=\"url(#clip622)\" style=\"stroke:#000000; stroke-linecap:round; stroke-linejoin:round; stroke-width:2; stroke-opacity:0.1; fill:none\" points=\"1785.46,1423.18 1785.46,123.472 \"/>\n",
       "<polyline clip-path=\"url(#clip622)\" style=\"stroke:#000000; stroke-linecap:round; stroke-linejoin:round; stroke-width:2; stroke-opacity:0.1; fill:none\" points=\"2291.97,1423.18 2291.97,123.472 \"/>\n",
       "<polyline clip-path=\"url(#clip622)\" style=\"stroke:#000000; stroke-linecap:round; stroke-linejoin:round; stroke-width:2; stroke-opacity:0.1; fill:none\" points=\"205.121,1386.4 2352.76,1386.4 \"/>\n",
       "<polyline clip-path=\"url(#clip622)\" style=\"stroke:#000000; stroke-linecap:round; stroke-linejoin:round; stroke-width:2; stroke-opacity:0.1; fill:none\" points=\"205.121,1138.3 2352.76,1138.3 \"/>\n",
       "<polyline clip-path=\"url(#clip622)\" style=\"stroke:#000000; stroke-linecap:round; stroke-linejoin:round; stroke-width:2; stroke-opacity:0.1; fill:none\" points=\"205.121,890.198 2352.76,890.198 \"/>\n",
       "<polyline clip-path=\"url(#clip622)\" style=\"stroke:#000000; stroke-linecap:round; stroke-linejoin:round; stroke-width:2; stroke-opacity:0.1; fill:none\" points=\"205.121,642.099 2352.76,642.099 \"/>\n",
       "<polyline clip-path=\"url(#clip622)\" style=\"stroke:#000000; stroke-linecap:round; stroke-linejoin:round; stroke-width:2; stroke-opacity:0.1; fill:none\" points=\"205.121,394 2352.76,394 \"/>\n",
       "<polyline clip-path=\"url(#clip622)\" style=\"stroke:#000000; stroke-linecap:round; stroke-linejoin:round; stroke-width:2; stroke-opacity:0.1; fill:none\" points=\"205.121,145.9 2352.76,145.9 \"/>\n",
       "<polyline clip-path=\"url(#clip620)\" style=\"stroke:#000000; stroke-linecap:round; stroke-linejoin:round; stroke-width:4; stroke-opacity:1; fill:none\" points=\"205.121,1423.18 2352.76,1423.18 \"/>\n",
       "<polyline clip-path=\"url(#clip620)\" style=\"stroke:#000000; stroke-linecap:round; stroke-linejoin:round; stroke-width:4; stroke-opacity:1; fill:none\" points=\"265.903,1423.18 265.903,1404.28 \"/>\n",
       "<polyline clip-path=\"url(#clip620)\" style=\"stroke:#000000; stroke-linecap:round; stroke-linejoin:round; stroke-width:4; stroke-opacity:1; fill:none\" points=\"772.421,1423.18 772.421,1404.28 \"/>\n",
       "<polyline clip-path=\"url(#clip620)\" style=\"stroke:#000000; stroke-linecap:round; stroke-linejoin:round; stroke-width:4; stroke-opacity:1; fill:none\" points=\"1278.94,1423.18 1278.94,1404.28 \"/>\n",
       "<polyline clip-path=\"url(#clip620)\" style=\"stroke:#000000; stroke-linecap:round; stroke-linejoin:round; stroke-width:4; stroke-opacity:1; fill:none\" points=\"1785.46,1423.18 1785.46,1404.28 \"/>\n",
       "<polyline clip-path=\"url(#clip620)\" style=\"stroke:#000000; stroke-linecap:round; stroke-linejoin:round; stroke-width:4; stroke-opacity:1; fill:none\" points=\"2291.97,1423.18 2291.97,1404.28 \"/>\n",
       "<path clip-path=\"url(#clip620)\" d=\"M243.287 1454.1 Q239.676 1454.1 237.848 1457.66 Q236.042 1461.2 236.042 1468.33 Q236.042 1475.44 237.848 1479.01 Q239.676 1482.55 243.287 1482.55 Q246.922 1482.55 248.727 1479.01 Q250.556 1475.44 250.556 1468.33 Q250.556 1461.2 248.727 1457.66 Q246.922 1454.1 243.287 1454.1 M243.287 1450.39 Q249.098 1450.39 252.153 1455 Q255.232 1459.58 255.232 1468.33 Q255.232 1477.06 252.153 1481.67 Q249.098 1486.25 243.287 1486.25 Q237.477 1486.25 234.399 1481.67 Q231.343 1477.06 231.343 1468.33 Q231.343 1459.58 234.399 1455 Q237.477 1450.39 243.287 1450.39 Z\" fill=\"#000000\" fill-rule=\"nonzero\" fill-opacity=\"1\" /><path clip-path=\"url(#clip620)\" d=\"M263.449 1479.7 L268.334 1479.7 L268.334 1485.58 L263.449 1485.58 L263.449 1479.7 Z\" fill=\"#000000\" fill-rule=\"nonzero\" fill-opacity=\"1\" /><path clip-path=\"url(#clip620)\" d=\"M288.519 1454.1 Q284.908 1454.1 283.079 1457.66 Q281.273 1461.2 281.273 1468.33 Q281.273 1475.44 283.079 1479.01 Q284.908 1482.55 288.519 1482.55 Q292.153 1482.55 293.959 1479.01 Q295.787 1475.44 295.787 1468.33 Q295.787 1461.2 293.959 1457.66 Q292.153 1454.1 288.519 1454.1 M288.519 1450.39 Q294.329 1450.39 297.384 1455 Q300.463 1459.58 300.463 1468.33 Q300.463 1477.06 297.384 1481.67 Q294.329 1486.25 288.519 1486.25 Q282.709 1486.25 279.63 1481.67 Q276.574 1477.06 276.574 1468.33 Q276.574 1459.58 279.63 1455 Q282.709 1450.39 288.519 1450.39 Z\" fill=\"#000000\" fill-rule=\"nonzero\" fill-opacity=\"1\" /><path clip-path=\"url(#clip620)\" d=\"M744.157 1481.64 L760.476 1481.64 L760.476 1485.58 L738.532 1485.58 L738.532 1481.64 Q741.194 1478.89 745.777 1474.26 Q750.384 1469.61 751.564 1468.27 Q753.81 1465.74 754.689 1464.01 Q755.592 1462.25 755.592 1460.56 Q755.592 1457.8 753.648 1456.07 Q751.726 1454.33 748.625 1454.33 Q746.426 1454.33 743.972 1455.09 Q741.541 1455.86 738.764 1457.41 L738.764 1452.69 Q741.588 1451.55 744.041 1450.97 Q746.495 1450.39 748.532 1450.39 Q753.902 1450.39 757.097 1453.08 Q760.291 1455.77 760.291 1460.26 Q760.291 1462.39 759.481 1464.31 Q758.694 1466.2 756.588 1468.8 Q756.009 1469.47 752.907 1472.69 Q749.805 1475.88 744.157 1481.64 Z\" fill=\"#000000\" fill-rule=\"nonzero\" fill-opacity=\"1\" /><path clip-path=\"url(#clip620)\" d=\"M770.291 1479.7 L775.175 1479.7 L775.175 1485.58 L770.291 1485.58 L770.291 1479.7 Z\" fill=\"#000000\" fill-rule=\"nonzero\" fill-opacity=\"1\" /><path clip-path=\"url(#clip620)\" d=\"M785.407 1451.02 L803.763 1451.02 L803.763 1454.96 L789.689 1454.96 L789.689 1463.43 Q790.708 1463.08 791.726 1462.92 Q792.745 1462.73 793.763 1462.73 Q799.55 1462.73 802.93 1465.9 Q806.309 1469.08 806.309 1474.49 Q806.309 1480.07 802.837 1483.17 Q799.365 1486.25 793.046 1486.25 Q790.87 1486.25 788.601 1485.88 Q786.356 1485.51 783.948 1484.77 L783.948 1480.07 Q786.032 1481.2 788.254 1481.76 Q790.476 1482.32 792.953 1482.32 Q796.958 1482.32 799.296 1480.21 Q801.634 1478.1 801.634 1474.49 Q801.634 1470.88 799.296 1468.77 Q796.958 1466.67 792.953 1466.67 Q791.078 1466.67 789.203 1467.08 Q787.351 1467.5 785.407 1468.38 L785.407 1451.02 Z\" fill=\"#000000\" fill-rule=\"nonzero\" fill-opacity=\"1\" /><path clip-path=\"url(#clip620)\" d=\"M1246.1 1451.02 L1264.46 1451.02 L1264.46 1454.96 L1250.39 1454.96 L1250.39 1463.43 Q1251.4 1463.08 1252.42 1462.92 Q1253.44 1462.73 1254.46 1462.73 Q1260.25 1462.73 1263.63 1465.9 Q1267.01 1469.08 1267.01 1474.49 Q1267.01 1480.07 1263.53 1483.17 Q1260.06 1486.25 1253.74 1486.25 Q1251.57 1486.25 1249.3 1485.88 Q1247.05 1485.51 1244.64 1484.77 L1244.64 1480.07 Q1246.73 1481.2 1248.95 1481.76 Q1251.17 1482.32 1253.65 1482.32 Q1257.65 1482.32 1259.99 1480.21 Q1262.33 1478.1 1262.33 1474.49 Q1262.33 1470.88 1259.99 1468.77 Q1257.65 1466.67 1253.65 1466.67 Q1251.77 1466.67 1249.9 1467.08 Q1248.05 1467.5 1246.1 1468.38 L1246.1 1451.02 Z\" fill=\"#000000\" fill-rule=\"nonzero\" fill-opacity=\"1\" /><path clip-path=\"url(#clip620)\" d=\"M1276.22 1479.7 L1281.1 1479.7 L1281.1 1485.58 L1276.22 1485.58 L1276.22 1479.7 Z\" fill=\"#000000\" fill-rule=\"nonzero\" fill-opacity=\"1\" /><path clip-path=\"url(#clip620)\" d=\"M1301.29 1454.1 Q1297.68 1454.1 1295.85 1457.66 Q1294.04 1461.2 1294.04 1468.33 Q1294.04 1475.44 1295.85 1479.01 Q1297.68 1482.55 1301.29 1482.55 Q1304.92 1482.55 1306.73 1479.01 Q1308.56 1475.44 1308.56 1468.33 Q1308.56 1461.2 1306.73 1457.66 Q1304.92 1454.1 1301.29 1454.1 M1301.29 1450.39 Q1307.1 1450.39 1310.15 1455 Q1313.23 1459.58 1313.23 1468.33 Q1313.23 1477.06 1310.15 1481.67 Q1307.1 1486.25 1301.29 1486.25 Q1295.48 1486.25 1292.4 1481.67 Q1289.34 1477.06 1289.34 1468.33 Q1289.34 1459.58 1292.4 1455 Q1295.48 1450.39 1301.29 1450.39 Z\" fill=\"#000000\" fill-rule=\"nonzero\" fill-opacity=\"1\" /><path clip-path=\"url(#clip620)\" d=\"M1751.78 1451.02 L1774 1451.02 L1774 1453.01 L1761.45 1485.58 L1756.57 1485.58 L1768.37 1454.96 L1751.78 1454.96 L1751.78 1451.02 Z\" fill=\"#000000\" fill-rule=\"nonzero\" fill-opacity=\"1\" /><path clip-path=\"url(#clip620)\" d=\"M1783.12 1479.7 L1788 1479.7 L1788 1485.58 L1783.12 1485.58 L1783.12 1479.7 Z\" fill=\"#000000\" fill-rule=\"nonzero\" fill-opacity=\"1\" /><path clip-path=\"url(#clip620)\" d=\"M1798.23 1451.02 L1816.59 1451.02 L1816.59 1454.96 L1802.52 1454.96 L1802.52 1463.43 Q1803.53 1463.08 1804.55 1462.92 Q1805.57 1462.73 1806.59 1462.73 Q1812.38 1462.73 1815.76 1465.9 Q1819.14 1469.08 1819.14 1474.49 Q1819.14 1480.07 1815.66 1483.17 Q1812.19 1486.25 1805.87 1486.25 Q1803.7 1486.25 1801.43 1485.88 Q1799.18 1485.51 1796.78 1484.77 L1796.78 1480.07 Q1798.86 1481.2 1801.08 1481.76 Q1803.3 1482.32 1805.78 1482.32 Q1809.78 1482.32 1812.12 1480.21 Q1814.46 1478.1 1814.46 1474.49 Q1814.46 1470.88 1812.12 1468.77 Q1809.78 1466.67 1805.78 1466.67 Q1803.91 1466.67 1802.03 1467.08 Q1800.18 1467.5 1798.23 1468.38 L1798.23 1451.02 Z\" fill=\"#000000\" fill-rule=\"nonzero\" fill-opacity=\"1\" /><path clip-path=\"url(#clip620)\" d=\"M2244.05 1481.64 L2251.68 1481.64 L2251.68 1455.28 L2243.37 1456.95 L2243.37 1452.69 L2251.64 1451.02 L2256.31 1451.02 L2256.31 1481.64 L2263.95 1481.64 L2263.95 1485.58 L2244.05 1485.58 L2244.05 1481.64 Z\" fill=\"#000000\" fill-rule=\"nonzero\" fill-opacity=\"1\" /><path clip-path=\"url(#clip620)\" d=\"M2283.4 1454.1 Q2279.79 1454.1 2277.96 1457.66 Q2276.15 1461.2 2276.15 1468.33 Q2276.15 1475.44 2277.96 1479.01 Q2279.79 1482.55 2283.4 1482.55 Q2287.03 1482.55 2288.84 1479.01 Q2290.67 1475.44 2290.67 1468.33 Q2290.67 1461.2 2288.84 1457.66 Q2287.03 1454.1 2283.4 1454.1 M2283.4 1450.39 Q2289.21 1450.39 2292.26 1455 Q2295.34 1459.58 2295.34 1468.33 Q2295.34 1477.06 2292.26 1481.67 Q2289.21 1486.25 2283.4 1486.25 Q2277.59 1486.25 2274.51 1481.67 Q2271.45 1477.06 2271.45 1468.33 Q2271.45 1459.58 2274.51 1455 Q2277.59 1450.39 2283.4 1450.39 Z\" fill=\"#000000\" fill-rule=\"nonzero\" fill-opacity=\"1\" /><path clip-path=\"url(#clip620)\" d=\"M2303.56 1479.7 L2308.44 1479.7 L2308.44 1485.58 L2303.56 1485.58 L2303.56 1479.7 Z\" fill=\"#000000\" fill-rule=\"nonzero\" fill-opacity=\"1\" /><path clip-path=\"url(#clip620)\" d=\"M2328.63 1454.1 Q2325.02 1454.1 2323.19 1457.66 Q2321.38 1461.2 2321.38 1468.33 Q2321.38 1475.44 2323.19 1479.01 Q2325.02 1482.55 2328.63 1482.55 Q2332.26 1482.55 2334.07 1479.01 Q2335.9 1475.44 2335.9 1468.33 Q2335.9 1461.2 2334.07 1457.66 Q2332.26 1454.1 2328.63 1454.1 M2328.63 1450.39 Q2334.44 1450.39 2337.49 1455 Q2340.57 1459.58 2340.57 1468.33 Q2340.57 1477.06 2337.49 1481.67 Q2334.44 1486.25 2328.63 1486.25 Q2322.82 1486.25 2319.74 1481.67 Q2316.68 1477.06 2316.68 1468.33 Q2316.68 1459.58 2319.74 1455 Q2322.82 1450.39 2328.63 1450.39 Z\" fill=\"#000000\" fill-rule=\"nonzero\" fill-opacity=\"1\" /><path clip-path=\"url(#clip620)\" d=\"M1180.25 1522.27 L1180.25 1532.4 L1192.32 1532.4 L1192.32 1536.95 L1180.25 1536.95 L1180.25 1556.3 Q1180.25 1560.66 1181.43 1561.9 Q1182.64 1563.14 1186.3 1563.14 L1192.32 1563.14 L1192.32 1568.04 L1186.3 1568.04 Q1179.52 1568.04 1176.94 1565.53 Q1174.37 1562.98 1174.37 1556.3 L1174.37 1536.95 L1170.07 1536.95 L1170.07 1532.4 L1174.37 1532.4 L1174.37 1522.27 L1180.25 1522.27 Z\" fill=\"#000000\" fill-rule=\"nonzero\" fill-opacity=\"1\" /><path clip-path=\"url(#clip620)\" d=\"M1200.02 1532.4 L1205.88 1532.4 L1205.88 1568.04 L1200.02 1568.04 L1200.02 1532.4 M1200.02 1518.52 L1205.88 1518.52 L1205.88 1525.93 L1200.02 1525.93 L1200.02 1518.52 Z\" fill=\"#000000\" fill-rule=\"nonzero\" fill-opacity=\"1\" /><path clip-path=\"url(#clip620)\" d=\"M1245.88 1539.24 Q1248.08 1535.29 1251.14 1533.41 Q1254.19 1531.54 1258.33 1531.54 Q1263.9 1531.54 1266.92 1535.45 Q1269.95 1539.33 1269.95 1546.53 L1269.95 1568.04 L1264.06 1568.04 L1264.06 1546.72 Q1264.06 1541.59 1262.24 1539.11 Q1260.43 1536.63 1256.71 1536.63 Q1252.15 1536.63 1249.51 1539.65 Q1246.87 1542.68 1246.87 1547.9 L1246.87 1568.04 L1240.98 1568.04 L1240.98 1546.72 Q1240.98 1541.56 1239.17 1539.11 Q1237.35 1536.63 1233.57 1536.63 Q1229.08 1536.63 1226.44 1539.68 Q1223.8 1542.71 1223.8 1547.9 L1223.8 1568.04 L1217.91 1568.04 L1217.91 1532.4 L1223.8 1532.4 L1223.8 1537.93 Q1225.8 1534.66 1228.6 1533.1 Q1231.4 1531.54 1235.25 1531.54 Q1239.14 1531.54 1241.84 1533.51 Q1244.58 1535.48 1245.88 1539.24 Z\" fill=\"#000000\" fill-rule=\"nonzero\" fill-opacity=\"1\" /><path clip-path=\"url(#clip620)\" d=\"M1312.12 1548.76 L1312.12 1551.62 L1285.19 1551.62 Q1285.57 1557.67 1288.82 1560.85 Q1292.1 1564 1297.92 1564 Q1301.3 1564 1304.45 1563.17 Q1307.63 1562.35 1310.75 1560.69 L1310.75 1566.23 Q1307.6 1567.57 1304.29 1568.27 Q1300.98 1568.97 1297.57 1568.97 Q1289.04 1568.97 1284.05 1564 Q1279.08 1559.04 1279.08 1550.57 Q1279.08 1541.82 1283.79 1536.69 Q1288.53 1531.54 1296.56 1531.54 Q1303.75 1531.54 1307.92 1536.18 Q1312.12 1540.8 1312.12 1548.76 M1306.26 1547.04 Q1306.2 1542.23 1303.56 1539.37 Q1300.95 1536.5 1296.62 1536.5 Q1291.72 1536.5 1288.76 1539.27 Q1285.83 1542.04 1285.38 1547.07 L1306.26 1547.04 Z\" fill=\"#000000\" fill-rule=\"nonzero\" fill-opacity=\"1\" /><path clip-path=\"url(#clip620)\" d=\"M1323.23 1559.96 L1329.94 1559.96 L1329.94 1565.43 L1324.72 1575.62 L1320.62 1575.62 L1323.23 1565.43 L1323.23 1559.96 Z\" fill=\"#000000\" fill-rule=\"nonzero\" fill-opacity=\"1\" /><path clip-path=\"url(#clip620)\" d=\"M1385.9 1533.45 L1385.9 1538.98 Q1383.42 1537.71 1380.74 1537.07 Q1378.07 1536.44 1375.2 1536.44 Q1370.84 1536.44 1368.65 1537.77 Q1366.48 1539.11 1366.48 1541.79 Q1366.48 1543.82 1368.04 1545 Q1369.6 1546.15 1374.31 1547.2 L1376.32 1547.64 Q1382.56 1548.98 1385.17 1551.43 Q1387.81 1553.85 1387.81 1558.21 Q1387.81 1563.17 1383.86 1566.07 Q1379.95 1568.97 1373.07 1568.97 Q1370.21 1568.97 1367.09 1568.39 Q1364 1567.85 1360.56 1566.74 L1360.56 1560.69 Q1363.81 1562.38 1366.96 1563.24 Q1370.11 1564.07 1373.2 1564.07 Q1377.34 1564.07 1379.56 1562.66 Q1381.79 1561.23 1381.79 1558.65 Q1381.79 1556.27 1380.17 1554.99 Q1378.58 1553.72 1373.13 1552.54 L1371.1 1552.07 Q1365.66 1550.92 1363.24 1548.56 Q1360.82 1546.18 1360.82 1542.04 Q1360.82 1537.01 1364.38 1534.27 Q1367.95 1531.54 1374.5 1531.54 Q1377.75 1531.54 1380.61 1532.01 Q1383.48 1532.49 1385.9 1533.45 Z\" fill=\"#000000\" fill-rule=\"nonzero\" fill-opacity=\"1\" /><polyline clip-path=\"url(#clip620)\" style=\"stroke:#000000; stroke-linecap:round; stroke-linejoin:round; stroke-width:4; stroke-opacity:1; fill:none\" points=\"205.121,1423.18 205.121,123.472 \"/>\n",
       "<polyline clip-path=\"url(#clip620)\" style=\"stroke:#000000; stroke-linecap:round; stroke-linejoin:round; stroke-width:4; stroke-opacity:1; fill:none\" points=\"205.121,1386.4 224.019,1386.4 \"/>\n",
       "<polyline clip-path=\"url(#clip620)\" style=\"stroke:#000000; stroke-linecap:round; stroke-linejoin:round; stroke-width:4; stroke-opacity:1; fill:none\" points=\"205.121,1138.3 224.019,1138.3 \"/>\n",
       "<polyline clip-path=\"url(#clip620)\" style=\"stroke:#000000; stroke-linecap:round; stroke-linejoin:round; stroke-width:4; stroke-opacity:1; fill:none\" points=\"205.121,890.198 224.019,890.198 \"/>\n",
       "<polyline clip-path=\"url(#clip620)\" style=\"stroke:#000000; stroke-linecap:round; stroke-linejoin:round; stroke-width:4; stroke-opacity:1; fill:none\" points=\"205.121,642.099 224.019,642.099 \"/>\n",
       "<polyline clip-path=\"url(#clip620)\" style=\"stroke:#000000; stroke-linecap:round; stroke-linejoin:round; stroke-width:4; stroke-opacity:1; fill:none\" points=\"205.121,394 224.019,394 \"/>\n",
       "<polyline clip-path=\"url(#clip620)\" style=\"stroke:#000000; stroke-linecap:round; stroke-linejoin:round; stroke-width:4; stroke-opacity:1; fill:none\" points=\"205.121,145.9 224.019,145.9 \"/>\n",
       "<path clip-path=\"url(#clip620)\" d=\"M157.177 1372.19 Q153.566 1372.19 151.737 1375.76 Q149.931 1379.3 149.931 1386.43 Q149.931 1393.54 151.737 1397.1 Q153.566 1400.64 157.177 1400.64 Q160.811 1400.64 162.616 1397.1 Q164.445 1393.54 164.445 1386.43 Q164.445 1379.3 162.616 1375.76 Q160.811 1372.19 157.177 1372.19 M157.177 1368.49 Q162.987 1368.49 166.042 1373.1 Q169.121 1377.68 169.121 1386.43 Q169.121 1395.16 166.042 1399.76 Q162.987 1404.35 157.177 1404.35 Q151.366 1404.35 148.288 1399.76 Q145.232 1395.16 145.232 1386.43 Q145.232 1377.68 148.288 1373.1 Q151.366 1368.49 157.177 1368.49 Z\" fill=\"#000000\" fill-rule=\"nonzero\" fill-opacity=\"1\" /><path clip-path=\"url(#clip620)\" d=\"M117.825 1151.64 L125.464 1151.64 L125.464 1125.28 L117.154 1126.94 L117.154 1122.68 L125.418 1121.02 L130.093 1121.02 L130.093 1151.64 L137.732 1151.64 L137.732 1155.58 L117.825 1155.58 L117.825 1151.64 Z\" fill=\"#000000\" fill-rule=\"nonzero\" fill-opacity=\"1\" /><path clip-path=\"url(#clip620)\" d=\"M157.177 1124.1 Q153.566 1124.1 151.737 1127.66 Q149.931 1131.2 149.931 1138.33 Q149.931 1145.44 151.737 1149 Q153.566 1152.54 157.177 1152.54 Q160.811 1152.54 162.616 1149 Q164.445 1145.44 164.445 1138.33 Q164.445 1131.2 162.616 1127.66 Q160.811 1124.1 157.177 1124.1 M157.177 1120.39 Q162.987 1120.39 166.042 1125 Q169.121 1129.58 169.121 1138.33 Q169.121 1147.06 166.042 1151.66 Q162.987 1156.25 157.177 1156.25 Q151.366 1156.25 148.288 1151.66 Q145.232 1147.06 145.232 1138.33 Q145.232 1129.58 148.288 1125 Q151.366 1120.39 157.177 1120.39 Z\" fill=\"#000000\" fill-rule=\"nonzero\" fill-opacity=\"1\" /><path clip-path=\"url(#clip620)\" d=\"M121.043 903.542 L137.362 903.542 L137.362 907.478 L115.418 907.478 L115.418 903.542 Q118.08 900.788 122.663 896.158 Q127.269 891.505 128.45 890.163 Q130.695 887.64 131.575 885.904 Q132.478 884.144 132.478 882.455 Q132.478 879.7 130.533 877.964 Q128.612 876.228 125.51 876.228 Q123.311 876.228 120.857 876.992 Q118.427 877.756 115.649 879.306 L115.649 874.584 Q118.473 873.45 120.927 872.871 Q123.38 872.293 125.418 872.293 Q130.788 872.293 133.982 874.978 Q137.177 877.663 137.177 882.154 Q137.177 884.283 136.367 886.205 Q135.579 888.103 133.473 890.695 Q132.894 891.367 129.792 894.584 Q126.691 897.779 121.043 903.542 Z\" fill=\"#000000\" fill-rule=\"nonzero\" fill-opacity=\"1\" /><path clip-path=\"url(#clip620)\" d=\"M157.177 875.996 Q153.566 875.996 151.737 879.561 Q149.931 883.103 149.931 890.232 Q149.931 897.339 151.737 900.904 Q153.566 904.445 157.177 904.445 Q160.811 904.445 162.616 900.904 Q164.445 897.339 164.445 890.232 Q164.445 883.103 162.616 879.561 Q160.811 875.996 157.177 875.996 M157.177 872.293 Q162.987 872.293 166.042 876.899 Q169.121 881.482 169.121 890.232 Q169.121 898.959 166.042 903.566 Q162.987 908.149 157.177 908.149 Q151.366 908.149 148.288 903.566 Q145.232 898.959 145.232 890.232 Q145.232 881.482 148.288 876.899 Q151.366 872.293 157.177 872.293 Z\" fill=\"#000000\" fill-rule=\"nonzero\" fill-opacity=\"1\" /><path clip-path=\"url(#clip620)\" d=\"M131.181 640.744 Q134.538 641.462 136.413 643.73 Q138.311 645.999 138.311 649.332 Q138.311 654.448 134.792 657.249 Q131.274 660.05 124.793 660.05 Q122.617 660.05 120.302 659.61 Q118.01 659.193 115.556 658.337 L115.556 653.823 Q117.501 654.957 119.816 655.536 Q122.13 656.115 124.654 656.115 Q129.052 656.115 131.343 654.379 Q133.658 652.642 133.658 649.332 Q133.658 646.277 131.505 644.564 Q129.376 642.828 125.556 642.828 L121.529 642.828 L121.529 638.985 L125.742 638.985 Q129.191 638.985 131.019 637.619 Q132.848 636.231 132.848 633.638 Q132.848 630.976 130.95 629.564 Q129.075 628.129 125.556 628.129 Q123.635 628.129 121.436 628.545 Q119.237 628.962 116.598 629.842 L116.598 625.675 Q119.26 624.934 121.575 624.564 Q123.913 624.194 125.973 624.194 Q131.297 624.194 134.399 626.624 Q137.501 629.031 137.501 633.152 Q137.501 636.022 135.857 638.013 Q134.214 639.981 131.181 640.744 Z\" fill=\"#000000\" fill-rule=\"nonzero\" fill-opacity=\"1\" /><path clip-path=\"url(#clip620)\" d=\"M157.177 627.897 Q153.566 627.897 151.737 631.462 Q149.931 635.004 149.931 642.133 Q149.931 649.24 151.737 652.805 Q153.566 656.346 157.177 656.346 Q160.811 656.346 162.616 652.805 Q164.445 649.24 164.445 642.133 Q164.445 635.004 162.616 631.462 Q160.811 627.897 157.177 627.897 M157.177 624.194 Q162.987 624.194 166.042 628.8 Q169.121 633.383 169.121 642.133 Q169.121 650.86 166.042 655.467 Q162.987 660.05 157.177 660.05 Q151.366 660.05 148.288 655.467 Q145.232 650.86 145.232 642.133 Q145.232 633.383 148.288 628.8 Q151.366 624.194 157.177 624.194 Z\" fill=\"#000000\" fill-rule=\"nonzero\" fill-opacity=\"1\" /><path clip-path=\"url(#clip620)\" d=\"M129.862 380.794 L118.056 399.243 L129.862 399.243 L129.862 380.794 M128.635 376.72 L134.515 376.72 L134.515 399.243 L139.445 399.243 L139.445 403.131 L134.515 403.131 L134.515 411.28 L129.862 411.28 L129.862 403.131 L114.26 403.131 L114.26 398.618 L128.635 376.72 Z\" fill=\"#000000\" fill-rule=\"nonzero\" fill-opacity=\"1\" /><path clip-path=\"url(#clip620)\" d=\"M157.177 379.798 Q153.566 379.798 151.737 383.363 Q149.931 386.905 149.931 394.034 Q149.931 401.141 151.737 404.705 Q153.566 408.247 157.177 408.247 Q160.811 408.247 162.616 404.705 Q164.445 401.141 164.445 394.034 Q164.445 386.905 162.616 383.363 Q160.811 379.798 157.177 379.798 M157.177 376.095 Q162.987 376.095 166.042 380.701 Q169.121 385.284 169.121 394.034 Q169.121 402.761 166.042 407.367 Q162.987 411.951 157.177 411.951 Q151.366 411.951 148.288 407.367 Q145.232 402.761 145.232 394.034 Q145.232 385.284 148.288 380.701 Q151.366 376.095 157.177 376.095 Z\" fill=\"#000000\" fill-rule=\"nonzero\" fill-opacity=\"1\" /><path clip-path=\"url(#clip620)\" d=\"M117.061 128.62 L135.417 128.62 L135.417 132.556 L121.343 132.556 L121.343 141.028 Q122.362 140.681 123.38 140.519 Q124.399 140.333 125.418 140.333 Q131.205 140.333 134.584 143.505 Q137.964 146.676 137.964 152.093 Q137.964 157.671 134.492 160.773 Q131.019 163.852 124.7 163.852 Q122.524 163.852 120.255 163.481 Q118.01 163.111 115.603 162.37 L115.603 157.671 Q117.686 158.805 119.908 159.361 Q122.13 159.917 124.607 159.917 Q128.612 159.917 130.95 157.81 Q133.288 155.704 133.288 152.093 Q133.288 148.481 130.95 146.375 Q128.612 144.269 124.607 144.269 Q122.732 144.269 120.857 144.685 Q119.006 145.102 117.061 145.981 L117.061 128.62 Z\" fill=\"#000000\" fill-rule=\"nonzero\" fill-opacity=\"1\" /><path clip-path=\"url(#clip620)\" d=\"M157.177 131.699 Q153.566 131.699 151.737 135.264 Q149.931 138.806 149.931 145.935 Q149.931 153.042 151.737 156.606 Q153.566 160.148 157.177 160.148 Q160.811 160.148 162.616 156.606 Q164.445 153.042 164.445 145.935 Q164.445 138.806 162.616 135.264 Q160.811 131.699 157.177 131.699 M157.177 127.995 Q162.987 127.995 166.042 132.602 Q169.121 137.185 169.121 145.935 Q169.121 154.662 166.042 159.268 Q162.987 163.852 157.177 163.852 Q151.366 163.852 148.288 159.268 Q145.232 154.662 145.232 145.935 Q145.232 137.185 148.288 132.602 Q151.366 127.995 157.177 127.995 Z\" fill=\"#000000\" fill-rule=\"nonzero\" fill-opacity=\"1\" /><path clip-path=\"url(#clip620)\" d=\"M28.3562 978.572 L28.3562 972.366 L58.275 961.226 L28.3562 950.086 L28.3562 943.879 L64.0042 957.247 L64.0042 965.204 L28.3562 978.572 Z\" fill=\"#000000\" fill-rule=\"nonzero\" fill-opacity=\"1\" /><path clip-path=\"url(#clip620)\" d=\"M44.7161 905.303 L47.5806 905.303 L47.5806 932.23 Q53.6281 931.848 56.8109 928.601 Q59.9619 925.323 59.9619 919.499 Q59.9619 916.125 59.1344 912.974 Q58.3069 909.791 56.6518 906.672 L62.1899 906.672 Q63.5267 909.823 64.227 913.133 Q64.9272 916.443 64.9272 919.849 Q64.9272 928.379 59.9619 933.376 Q54.9967 938.341 46.5303 938.341 Q37.7774 938.341 32.6531 933.63 Q27.4968 928.888 27.4968 920.867 Q27.4968 913.674 32.1438 909.504 Q36.7589 905.303 44.7161 905.303 M42.9973 911.159 Q38.1912 911.223 35.3266 913.865 Q32.4621 916.475 32.4621 920.803 Q32.4621 925.705 35.2312 928.665 Q38.0002 931.593 43.0292 932.039 L42.9973 911.159 Z\" fill=\"#000000\" fill-rule=\"nonzero\" fill-opacity=\"1\" /><path clip-path=\"url(#clip620)\" d=\"M14.479 895.691 L14.479 889.834 L64.0042 889.834 L64.0042 895.691 L14.479 895.691 Z\" fill=\"#000000\" fill-rule=\"nonzero\" fill-opacity=\"1\" /><path clip-path=\"url(#clip620)\" d=\"M32.4621 863.767 Q32.4621 868.477 36.1542 871.215 Q39.8145 873.952 46.212 873.952 Q52.6095 873.952 56.3017 871.246 Q59.9619 868.509 59.9619 863.767 Q59.9619 859.088 56.2698 856.351 Q52.5777 853.613 46.212 853.613 Q39.8781 853.613 36.186 856.351 Q32.4621 859.088 32.4621 863.767 M27.4968 863.767 Q27.4968 856.128 32.4621 851.767 Q37.4273 847.407 46.212 847.407 Q54.9649 847.407 59.9619 851.767 Q64.9272 856.128 64.9272 863.767 Q64.9272 871.437 59.9619 875.798 Q54.9649 880.127 46.212 880.127 Q37.4273 880.127 32.4621 875.798 Q27.4968 871.437 27.4968 863.767 Z\" fill=\"#000000\" fill-rule=\"nonzero\" fill-opacity=\"1\" /><path clip-path=\"url(#clip620)\" d=\"M29.7248 812.045 L35.1993 812.045 Q33.8307 814.528 33.1623 817.042 Q32.4621 819.525 32.4621 822.071 Q32.4621 827.769 36.0905 830.92 Q39.6872 834.071 46.212 834.071 Q52.7369 834.071 56.3653 830.92 Q59.9619 827.769 59.9619 822.071 Q59.9619 819.525 59.2935 817.042 Q58.5933 814.528 57.2247 812.045 L62.6355 812.045 Q63.7814 814.496 64.3543 817.138 Q64.9272 819.748 64.9272 822.708 Q64.9272 830.761 59.8664 835.503 Q54.8057 840.245 46.212 840.245 Q37.491 840.245 32.4939 835.471 Q27.4968 830.665 27.4968 822.326 Q27.4968 819.621 28.0697 817.042 Q28.6108 814.464 29.7248 812.045 Z\" fill=\"#000000\" fill-rule=\"nonzero\" fill-opacity=\"1\" /><path clip-path=\"url(#clip620)\" d=\"M28.3562 801.86 L28.3562 796.004 L64.0042 796.004 L64.0042 801.86 L28.3562 801.86 M14.479 801.86 L14.479 796.004 L21.895 796.004 L21.895 801.86 L14.479 801.86 Z\" fill=\"#000000\" fill-rule=\"nonzero\" fill-opacity=\"1\" /><path clip-path=\"url(#clip620)\" d=\"M18.2347 777.957 L28.3562 777.957 L28.3562 765.894 L32.9077 765.894 L32.9077 777.957 L52.2594 777.957 Q56.6199 777.957 57.8613 776.779 Q59.1026 775.57 59.1026 771.91 L59.1026 765.894 L64.0042 765.894 L64.0042 771.91 Q64.0042 778.689 61.4897 781.267 Q58.9434 783.845 52.2594 783.845 L32.9077 783.845 L32.9077 788.142 L28.3562 788.142 L28.3562 783.845 L18.2347 783.845 L18.2347 777.957 Z\" fill=\"#000000\" fill-rule=\"nonzero\" fill-opacity=\"1\" /><path clip-path=\"url(#clip620)\" d=\"M67.3143 743.359 Q73.68 745.842 75.6216 748.197 Q77.5631 750.553 77.5631 754.499 L77.5631 759.178 L72.6615 759.178 L72.6615 755.741 Q72.6615 753.322 71.5157 751.985 Q70.3699 750.648 66.1048 749.025 L63.4312 747.975 L28.3562 762.393 L28.3562 756.186 L56.238 745.046 L28.3562 733.906 L28.3562 727.7 L67.3143 743.359 Z\" fill=\"#000000\" fill-rule=\"nonzero\" fill-opacity=\"1\" /><path clip-path=\"url(#clip620)\" d=\"M55.9197 718.119 L55.9197 711.404 L61.3942 711.404 L71.5793 716.623 L71.5793 720.729 L61.3942 718.119 L55.9197 718.119 Z\" fill=\"#000000\" fill-rule=\"nonzero\" fill-opacity=\"1\" /><path clip-path=\"url(#clip620)\" d=\"M35.1993 650.42 Q31.2526 648.224 29.3747 645.168 Q27.4968 642.113 27.4968 637.975 Q27.4968 632.405 31.4117 629.381 Q35.2948 626.358 42.4881 626.358 L64.0042 626.358 L64.0042 632.246 L42.679 632.246 Q37.5546 632.246 35.072 634.06 Q32.5894 635.874 32.5894 639.598 Q32.5894 644.15 35.6131 646.792 Q38.6368 649.433 43.8567 649.433 L64.0042 649.433 L64.0042 655.322 L42.679 655.322 Q37.5228 655.322 35.072 657.136 Q32.5894 658.95 32.5894 662.738 Q32.5894 667.226 35.6449 669.867 Q38.6686 672.509 43.8567 672.509 L64.0042 672.509 L64.0042 678.397 L28.3562 678.397 L28.3562 672.509 L33.8944 672.509 Q30.616 670.504 29.0564 667.703 Q27.4968 664.902 27.4968 661.051 Q27.4968 657.168 29.4702 654.462 Q31.4436 651.725 35.1993 650.42 Z\" fill=\"#000000\" fill-rule=\"nonzero\" fill-opacity=\"1\" /><path clip-path=\"url(#clip620)\" d=\"M16.4842 604.269 L16.4842 598.858 L70.0516 615.409 L70.0516 620.82 L16.4842 604.269 Z\" fill=\"#000000\" fill-rule=\"nonzero\" fill-opacity=\"1\" /><path clip-path=\"url(#clip620)\" d=\"M29.4065 569.989 L34.9447 569.989 Q33.6716 572.472 33.035 575.146 Q32.3984 577.819 32.3984 580.684 Q32.3984 585.044 33.7352 587.24 Q35.072 589.405 37.7456 589.405 Q39.7826 589.405 40.9603 587.845 Q42.1061 586.286 43.1565 581.575 L43.6021 579.57 Q44.9389 573.331 47.3897 570.721 Q49.8086 568.08 54.1691 568.08 Q59.1344 568.08 62.0308 572.026 Q64.9272 575.941 64.9272 582.816 Q64.9272 585.681 64.3543 588.8 Q63.8132 591.887 62.6992 595.325 L56.6518 595.325 Q58.3387 592.078 59.198 588.927 Q60.0256 585.776 60.0256 582.689 Q60.0256 578.551 58.6251 576.323 Q57.1929 574.095 54.6147 574.095 Q52.2276 574.095 50.9545 575.719 Q49.6813 577.31 48.5037 582.753 L48.0262 584.79 Q46.8804 590.232 44.5251 592.651 Q42.138 595.07 38.0002 595.07 Q32.9713 595.07 30.2341 591.505 Q27.4968 587.941 27.4968 581.384 Q27.4968 578.138 27.9743 575.273 Q28.4517 572.408 29.4065 569.989 Z\" fill=\"#000000\" fill-rule=\"nonzero\" fill-opacity=\"1\" /><path clip-path=\"url(#clip620)\" d=\"M943.827 18.8205 L943.827 41.5461 L954.117 41.5461 Q959.828 41.5461 962.948 38.5889 Q966.067 35.6318 966.067 30.163 Q966.067 24.7348 962.948 21.7777 Q959.828 18.8205 954.117 18.8205 L943.827 18.8205 M935.645 12.096 L954.117 12.096 Q964.284 12.096 969.47 16.714 Q974.695 21.2916 974.695 30.163 Q974.695 39.1155 969.47 43.6931 Q964.284 48.2706 954.117 48.2706 L943.827 48.2706 L943.827 72.576 L935.645 72.576 L935.645 12.096 Z\" fill=\"#000000\" fill-rule=\"nonzero\" fill-opacity=\"1\" /><path clip-path=\"url(#clip620)\" d=\"M985.349 9.54393 L992.803 9.54393 L992.803 72.576 L985.349 72.576 L985.349 9.54393 Z\" fill=\"#000000\" fill-rule=\"nonzero\" fill-opacity=\"1\" /><path clip-path=\"url(#clip620)\" d=\"M1025.98 32.4315 Q1019.98 32.4315 1016.5 37.1306 Q1013.02 41.7891 1013.02 49.9314 Q1013.02 58.0738 1016.46 62.7728 Q1019.94 67.4314 1025.98 67.4314 Q1031.93 67.4314 1035.42 62.7323 Q1038.9 58.0333 1038.9 49.9314 Q1038.9 41.8701 1035.42 37.1711 Q1031.93 32.4315 1025.98 32.4315 M1025.98 26.1121 Q1035.7 26.1121 1041.25 32.4315 Q1046.8 38.7509 1046.8 49.9314 Q1046.8 61.0714 1041.25 67.4314 Q1035.7 73.7508 1025.98 73.7508 Q1016.22 73.7508 1010.67 67.4314 Q1005.16 61.0714 1005.16 49.9314 Q1005.16 38.7509 1010.67 32.4315 Q1016.22 26.1121 1025.98 26.1121 Z\" fill=\"#000000\" fill-rule=\"nonzero\" fill-opacity=\"1\" /><path clip-path=\"url(#clip620)\" d=\"M1066.53 14.324 L1066.53 27.2059 L1081.88 27.2059 L1081.88 32.9987 L1066.53 32.9987 L1066.53 57.6282 Q1066.53 63.1779 1068.03 64.7578 Q1069.57 66.3376 1074.23 66.3376 L1081.88 66.3376 L1081.88 72.576 L1074.23 72.576 Q1065.6 72.576 1062.32 69.3758 Q1059.04 66.1351 1059.04 57.6282 L1059.04 32.9987 L1053.57 32.9987 L1053.57 27.2059 L1059.04 27.2059 L1059.04 14.324 L1066.53 14.324 Z\" fill=\"#000000\" fill-rule=\"nonzero\" fill-opacity=\"1\" /><path clip-path=\"url(#clip620)\" d=\"M1135.64 32.4315 Q1129.64 32.4315 1126.16 37.1306 Q1122.67 41.7891 1122.67 49.9314 Q1122.67 58.0738 1126.12 62.7728 Q1129.6 67.4314 1135.64 67.4314 Q1141.59 67.4314 1145.08 62.7323 Q1148.56 58.0333 1148.56 49.9314 Q1148.56 41.8701 1145.08 37.1711 Q1141.59 32.4315 1135.64 32.4315 M1135.64 26.1121 Q1145.36 26.1121 1150.91 32.4315 Q1156.46 38.7509 1156.46 49.9314 Q1156.46 61.0714 1150.91 67.4314 Q1145.36 73.7508 1135.64 73.7508 Q1125.88 73.7508 1120.33 67.4314 Q1114.82 61.0714 1114.82 49.9314 Q1114.82 38.7509 1120.33 32.4315 Q1125.88 26.1121 1135.64 26.1121 Z\" fill=\"#000000\" fill-rule=\"nonzero\" fill-opacity=\"1\" /><path clip-path=\"url(#clip620)\" d=\"M1191.78 9.54393 L1191.78 15.7418 L1184.65 15.7418 Q1180.64 15.7418 1179.06 17.3622 Q1177.52 18.9825 1177.52 23.1955 L1177.52 27.2059 L1189.8 27.2059 L1189.8 32.9987 L1177.52 32.9987 L1177.52 72.576 L1170.03 72.576 L1170.03 32.9987 L1162.9 32.9987 L1162.9 27.2059 L1170.03 27.2059 L1170.03 24.0462 Q1170.03 16.471 1173.55 13.0277 Q1177.08 9.54393 1184.73 9.54393 L1191.78 9.54393 Z\" fill=\"#000000\" fill-rule=\"nonzero\" fill-opacity=\"1\" /><path clip-path=\"url(#clip620)\" d=\"M1219.05 27.2059 L1226.95 27.2059 L1241.12 65.2844 L1255.3 27.2059 L1263.2 27.2059 L1246.19 72.576 L1236.06 72.576 L1219.05 27.2059 Z\" fill=\"#000000\" fill-rule=\"nonzero\" fill-opacity=\"1\" /><path clip-path=\"url(#clip620)\" d=\"M1294.51 27.2059 L1302.41 27.2059 L1316.59 65.2844 L1330.77 27.2059 L1338.67 27.2059 L1321.66 72.576 L1311.53 72.576 L1294.51 27.2059 Z\" fill=\"#000000\" fill-rule=\"nonzero\" fill-opacity=\"1\" /><path clip-path=\"url(#clip620)\" d=\"M1387.77 48.0275 L1387.77 51.6733 L1353.5 51.6733 Q1353.98 59.3701 1358.11 63.421 Q1362.29 67.4314 1369.7 67.4314 Q1373.99 67.4314 1378 66.3781 Q1382.05 65.3249 1386.02 63.2184 L1386.02 70.267 Q1382.01 71.9684 1377.8 72.8596 Q1373.59 73.7508 1369.25 73.7508 Q1358.4 73.7508 1352.04 67.4314 Q1345.72 61.1119 1345.72 50.3365 Q1345.72 39.1965 1351.71 32.6746 Q1357.75 26.1121 1367.96 26.1121 Q1377.11 26.1121 1382.42 32.0264 Q1387.77 37.9003 1387.77 48.0275 M1380.31 45.84 Q1380.23 39.7232 1376.87 36.0774 Q1373.55 32.4315 1368.04 32.4315 Q1361.8 32.4315 1358.03 35.9558 Q1354.31 39.4801 1353.74 45.8805 L1380.31 45.84 Z\" fill=\"#000000\" fill-rule=\"nonzero\" fill-opacity=\"1\" /><path clip-path=\"url(#clip620)\" d=\"M1426.29 34.1734 Q1425.03 33.4443 1423.54 33.1202 Q1422.08 32.7556 1420.29 32.7556 Q1413.98 32.7556 1410.57 36.8875 Q1407.21 40.9789 1407.21 48.6757 L1407.21 72.576 L1399.72 72.576 L1399.72 27.2059 L1407.21 27.2059 L1407.21 34.2544 Q1409.56 30.1225 1413.33 28.1376 Q1417.09 26.1121 1422.48 26.1121 Q1423.25 26.1121 1424.18 26.2337 Q1425.12 26.3147 1426.25 26.5172 L1426.29 34.1734 Z\" fill=\"#000000\" fill-rule=\"nonzero\" fill-opacity=\"1\" /><path clip-path=\"url(#clip620)\" d=\"M1463.03 28.5427 L1463.03 35.5912 Q1459.87 33.9709 1456.47 33.1607 Q1453.07 32.3505 1449.42 32.3505 Q1443.87 32.3505 1441.08 34.0519 Q1438.32 35.7533 1438.32 39.156 Q1438.32 41.7486 1440.31 43.2475 Q1442.29 44.7058 1448.29 46.0426 L1450.84 46.6097 Q1458.78 48.3111 1462.1 51.4303 Q1465.46 54.509 1465.46 60.0587 Q1465.46 66.3781 1460.44 70.0644 Q1455.46 73.7508 1446.71 73.7508 Q1443.06 73.7508 1439.09 73.0216 Q1435.16 72.3329 1430.79 70.9151 L1430.79 63.2184 Q1434.92 65.3654 1438.93 66.4591 Q1442.94 67.5124 1446.87 67.5124 Q1452.13 67.5124 1454.97 65.73 Q1457.81 63.9071 1457.81 60.6258 Q1457.81 57.5877 1455.74 55.9673 Q1453.71 54.3469 1446.79 52.8481 L1444.2 52.2405 Q1437.27 50.7821 1434.19 47.7845 Q1431.11 44.7463 1431.11 39.4801 Q1431.11 33.0797 1435.65 29.5959 Q1440.18 26.1121 1448.53 26.1121 Q1452.66 26.1121 1456.31 26.7198 Q1459.95 27.3274 1463.03 28.5427 Z\" fill=\"#000000\" fill-rule=\"nonzero\" fill-opacity=\"1\" /><path clip-path=\"url(#clip620)\" d=\"M1476.56 54.671 L1476.56 27.2059 L1484.02 27.2059 L1484.02 54.3874 Q1484.02 60.8284 1486.53 64.0691 Q1489.04 67.2693 1494.06 67.2693 Q1500.1 67.2693 1503.58 63.421 Q1507.11 59.5726 1507.11 52.9291 L1507.11 27.2059 L1514.56 27.2059 L1514.56 72.576 L1507.11 72.576 L1507.11 65.6084 Q1504.39 69.7404 1500.79 71.7658 Q1497.22 73.7508 1492.48 73.7508 Q1484.66 73.7508 1480.61 68.8897 Q1476.56 64.0286 1476.56 54.671 M1495.32 26.1121 L1495.32 26.1121 Z\" fill=\"#000000\" fill-rule=\"nonzero\" fill-opacity=\"1\" /><path clip-path=\"url(#clip620)\" d=\"M1558.84 28.5427 L1558.84 35.5912 Q1555.68 33.9709 1552.27 33.1607 Q1548.87 32.3505 1545.22 32.3505 Q1539.67 32.3505 1536.88 34.0519 Q1534.13 35.7533 1534.13 39.156 Q1534.13 41.7486 1536.11 43.2475 Q1538.1 44.7058 1544.09 46.0426 L1546.64 46.6097 Q1554.58 48.3111 1557.9 51.4303 Q1561.27 54.509 1561.27 60.0587 Q1561.27 66.3781 1556.24 70.0644 Q1551.26 73.7508 1542.51 73.7508 Q1538.86 73.7508 1534.89 73.0216 Q1530.97 72.3329 1526.59 70.9151 L1526.59 63.2184 Q1530.72 65.3654 1534.73 66.4591 Q1538.74 67.5124 1542.67 67.5124 Q1547.94 67.5124 1550.77 65.73 Q1553.61 63.9071 1553.61 60.6258 Q1553.61 57.5877 1551.54 55.9673 Q1549.52 54.3469 1542.59 52.8481 L1540 52.2405 Q1533.07 50.7821 1529.99 47.7845 Q1526.91 44.7463 1526.91 39.4801 Q1526.91 33.0797 1531.45 29.5959 Q1535.99 26.1121 1544.33 26.1121 Q1548.47 26.1121 1552.11 26.7198 Q1555.76 27.3274 1558.84 28.5427 Z\" fill=\"#000000\" fill-rule=\"nonzero\" fill-opacity=\"1\" /><path clip-path=\"url(#clip620)\" d=\"M1606.88 14.324 L1606.88 27.2059 L1622.23 27.2059 L1622.23 32.9987 L1606.88 32.9987 L1606.88 57.6282 Q1606.88 63.1779 1608.38 64.7578 Q1609.92 66.3376 1614.58 66.3376 L1622.23 66.3376 L1622.23 72.576 L1614.58 72.576 Q1605.95 72.576 1602.67 69.3758 Q1599.39 66.1351 1599.39 57.6282 L1599.39 32.9987 L1593.92 32.9987 L1593.92 27.2059 L1599.39 27.2059 L1599.39 14.324 L1606.88 14.324 Z\" fill=\"#000000\" fill-rule=\"nonzero\" fill-opacity=\"1\" /><polyline clip-path=\"url(#clip622)\" style=\"stroke:#000000; stroke-linecap:round; stroke-linejoin:round; stroke-width:4; stroke-opacity:1; fill:none\" stroke-dasharray=\"16, 10\" points=\"265.903,1386.4 671.117,921.726 1076.33,564.894 1481.55,342.489 1886.76,221.385 2291.97,160.256 \"/>\n",
       "<path clip-path=\"url(#clip622)\" d=\"M265.903 1370.4 L262.143 1381.21 L250.687 1381.45 L259.823 1388.38 L256.495 1399.34 L265.903 1392.8 L275.311 1399.34 L271.983 1388.38 L281.119 1381.45 L269.663 1381.21 L265.903 1370.4 Z\" fill=\"#ff00ff\" fill-rule=\"evenodd\" fill-opacity=\"1\" stroke=\"#000000\" stroke-opacity=\"1\" stroke-width=\"3.2\"/>\n",
       "<path clip-path=\"url(#clip622)\" d=\"M671.117 905.726 L667.357 916.542 L655.901 916.782 L665.037 923.71 L661.709 934.67 L671.117 928.126 L680.525 934.67 L677.197 923.71 L686.333 916.782 L674.877 916.542 L671.117 905.726 Z\" fill=\"#ff00ff\" fill-rule=\"evenodd\" fill-opacity=\"1\" stroke=\"#000000\" stroke-opacity=\"1\" stroke-width=\"3.2\"/>\n",
       "<path clip-path=\"url(#clip622)\" d=\"M1076.33 548.894 L1072.57 559.71 L1061.12 559.95 L1070.25 566.878 L1066.92 577.838 L1076.33 571.294 L1085.74 577.838 L1082.41 566.878 L1091.55 559.95 L1080.09 559.71 L1076.33 548.894 Z\" fill=\"#ff00ff\" fill-rule=\"evenodd\" fill-opacity=\"1\" stroke=\"#000000\" stroke-opacity=\"1\" stroke-width=\"3.2\"/>\n",
       "<path clip-path=\"url(#clip622)\" d=\"M1481.55 326.489 L1477.79 337.305 L1466.33 337.545 L1475.47 344.473 L1472.14 355.433 L1481.55 348.889 L1490.95 355.433 L1487.63 344.473 L1496.76 337.545 L1485.31 337.305 L1481.55 326.489 Z\" fill=\"#ff00ff\" fill-rule=\"evenodd\" fill-opacity=\"1\" stroke=\"#000000\" stroke-opacity=\"1\" stroke-width=\"3.2\"/>\n",
       "<path clip-path=\"url(#clip622)\" d=\"M1886.76 205.385 L1883 216.201 L1871.54 216.441 L1880.68 223.369 L1877.35 234.329 L1886.76 227.785 L1896.17 234.329 L1892.84 223.369 L1901.98 216.441 L1890.52 216.201 L1886.76 205.385 Z\" fill=\"#ff00ff\" fill-rule=\"evenodd\" fill-opacity=\"1\" stroke=\"#000000\" stroke-opacity=\"1\" stroke-width=\"3.2\"/>\n",
       "<path clip-path=\"url(#clip622)\" d=\"M2291.97 144.256 L2288.21 155.072 L2276.76 155.312 L2285.89 162.24 L2282.57 173.2 L2291.97 166.656 L2301.38 173.2 L2298.05 162.24 L2307.19 155.312 L2295.73 155.072 L2291.97 144.256 Z\" fill=\"#ff00ff\" fill-rule=\"evenodd\" fill-opacity=\"1\" stroke=\"#000000\" stroke-opacity=\"1\" stroke-width=\"3.2\"/>\n",
       "<path clip-path=\"url(#clip620)\" d=\"M276.709 270.476 L543.903 270.476 L543.903 166.796 L276.709 166.796  Z\" fill=\"#ffffff\" fill-rule=\"evenodd\" fill-opacity=\"1\"/>\n",
       "<polyline clip-path=\"url(#clip620)\" style=\"stroke:#000000; stroke-linecap:round; stroke-linejoin:round; stroke-width:4; stroke-opacity:1; fill:none\" points=\"276.709,270.476 543.903,270.476 543.903,166.796 276.709,166.796 276.709,270.476 \"/>\n",
       "<polyline clip-path=\"url(#clip620)\" style=\"stroke:#000000; stroke-linecap:round; stroke-linejoin:round; stroke-width:4; stroke-opacity:1; fill:none\" stroke-dasharray=\"16, 10\" points=\"300.571,218.636 443.747,218.636 \"/>\n",
       "<path clip-path=\"url(#clip620)\" d=\"M372.159 196.541 L366.967 211.477 L351.147 211.808 L363.763 221.375 L359.167 236.511 L372.159 227.474 L385.151 236.511 L380.555 221.375 L393.172 211.808 L377.352 211.477 L372.159 196.541 Z\" fill=\"#ff00ff\" fill-rule=\"evenodd\" fill-opacity=\"1\" stroke=\"#000000\" stroke-opacity=\"1\" stroke-width=\"4.55111\"/>\n",
       "<path clip-path=\"url(#clip620)\" d=\"M481.452 238.323 Q479.647 242.953 477.934 244.365 Q476.221 245.777 473.35 245.777 L469.948 245.777 L469.948 242.212 L472.448 242.212 Q474.207 242.212 475.179 241.379 Q476.151 240.545 477.332 237.443 L478.096 235.499 L467.61 209.99 L472.124 209.99 L480.225 230.268 L488.327 209.99 L492.841 209.99 L481.452 238.323 Z\" fill=\"#000000\" fill-rule=\"nonzero\" fill-opacity=\"1\" /><path clip-path=\"url(#clip620)\" d=\"M500.133 231.981 L507.772 231.981 L507.772 205.615 L499.461 207.282 L499.461 203.022 L507.725 201.356 L512.401 201.356 L512.401 231.981 L520.04 231.981 L520.04 235.916 L500.133 235.916 L500.133 231.981 Z\" fill=\"#000000\" fill-rule=\"nonzero\" fill-opacity=\"1\" /></svg>\n"
      ],
      "text/html": [
       "<?xml version=\"1.0\" encoding=\"utf-8\"?>\n",
       "<svg xmlns=\"http://www.w3.org/2000/svg\" xmlns:xlink=\"http://www.w3.org/1999/xlink\" width=\"600\" height=\"400\" viewBox=\"0 0 2400 1600\">\n",
       "<defs>\n",
       "  <clipPath id=\"clip670\">\n",
       "    <rect x=\"0\" y=\"0\" width=\"2400\" height=\"1600\"/>\n",
       "  </clipPath>\n",
       "</defs>\n",
       "<path clip-path=\"url(#clip670)\" d=\"M0 1600 L2400 1600 L2400 8.88178e-14 L0 8.88178e-14  Z\" fill=\"#ffffff\" fill-rule=\"evenodd\" fill-opacity=\"1\"/>\n",
       "<defs>\n",
       "  <clipPath id=\"clip671\">\n",
       "    <rect x=\"480\" y=\"0\" width=\"1681\" height=\"1600\"/>\n",
       "  </clipPath>\n",
       "</defs>\n",
       "<path clip-path=\"url(#clip670)\" d=\"M205.121 1423.18 L2352.76 1423.18 L2352.76 123.472 L205.121 123.472  Z\" fill=\"#ffffff\" fill-rule=\"evenodd\" fill-opacity=\"1\"/>\n",
       "<defs>\n",
       "  <clipPath id=\"clip672\">\n",
       "    <rect x=\"205\" y=\"123\" width=\"2149\" height=\"1301\"/>\n",
       "  </clipPath>\n",
       "</defs>\n",
       "<polyline clip-path=\"url(#clip672)\" style=\"stroke:#000000; stroke-linecap:round; stroke-linejoin:round; stroke-width:2; stroke-opacity:0.1; fill:none\" points=\"265.903,1423.18 265.903,123.472 \"/>\n",
       "<polyline clip-path=\"url(#clip672)\" style=\"stroke:#000000; stroke-linecap:round; stroke-linejoin:round; stroke-width:2; stroke-opacity:0.1; fill:none\" points=\"772.421,1423.18 772.421,123.472 \"/>\n",
       "<polyline clip-path=\"url(#clip672)\" style=\"stroke:#000000; stroke-linecap:round; stroke-linejoin:round; stroke-width:2; stroke-opacity:0.1; fill:none\" points=\"1278.94,1423.18 1278.94,123.472 \"/>\n",
       "<polyline clip-path=\"url(#clip672)\" style=\"stroke:#000000; stroke-linecap:round; stroke-linejoin:round; stroke-width:2; stroke-opacity:0.1; fill:none\" points=\"1785.46,1423.18 1785.46,123.472 \"/>\n",
       "<polyline clip-path=\"url(#clip672)\" style=\"stroke:#000000; stroke-linecap:round; stroke-linejoin:round; stroke-width:2; stroke-opacity:0.1; fill:none\" points=\"2291.97,1423.18 2291.97,123.472 \"/>\n",
       "<polyline clip-path=\"url(#clip672)\" style=\"stroke:#000000; stroke-linecap:round; stroke-linejoin:round; stroke-width:2; stroke-opacity:0.1; fill:none\" points=\"205.121,1386.4 2352.76,1386.4 \"/>\n",
       "<polyline clip-path=\"url(#clip672)\" style=\"stroke:#000000; stroke-linecap:round; stroke-linejoin:round; stroke-width:2; stroke-opacity:0.1; fill:none\" points=\"205.121,1138.3 2352.76,1138.3 \"/>\n",
       "<polyline clip-path=\"url(#clip672)\" style=\"stroke:#000000; stroke-linecap:round; stroke-linejoin:round; stroke-width:2; stroke-opacity:0.1; fill:none\" points=\"205.121,890.198 2352.76,890.198 \"/>\n",
       "<polyline clip-path=\"url(#clip672)\" style=\"stroke:#000000; stroke-linecap:round; stroke-linejoin:round; stroke-width:2; stroke-opacity:0.1; fill:none\" points=\"205.121,642.099 2352.76,642.099 \"/>\n",
       "<polyline clip-path=\"url(#clip672)\" style=\"stroke:#000000; stroke-linecap:round; stroke-linejoin:round; stroke-width:2; stroke-opacity:0.1; fill:none\" points=\"205.121,394 2352.76,394 \"/>\n",
       "<polyline clip-path=\"url(#clip672)\" style=\"stroke:#000000; stroke-linecap:round; stroke-linejoin:round; stroke-width:2; stroke-opacity:0.1; fill:none\" points=\"205.121,145.9 2352.76,145.9 \"/>\n",
       "<polyline clip-path=\"url(#clip670)\" style=\"stroke:#000000; stroke-linecap:round; stroke-linejoin:round; stroke-width:4; stroke-opacity:1; fill:none\" points=\"205.121,1423.18 2352.76,1423.18 \"/>\n",
       "<polyline clip-path=\"url(#clip670)\" style=\"stroke:#000000; stroke-linecap:round; stroke-linejoin:round; stroke-width:4; stroke-opacity:1; fill:none\" points=\"265.903,1423.18 265.903,1404.28 \"/>\n",
       "<polyline clip-path=\"url(#clip670)\" style=\"stroke:#000000; stroke-linecap:round; stroke-linejoin:round; stroke-width:4; stroke-opacity:1; fill:none\" points=\"772.421,1423.18 772.421,1404.28 \"/>\n",
       "<polyline clip-path=\"url(#clip670)\" style=\"stroke:#000000; stroke-linecap:round; stroke-linejoin:round; stroke-width:4; stroke-opacity:1; fill:none\" points=\"1278.94,1423.18 1278.94,1404.28 \"/>\n",
       "<polyline clip-path=\"url(#clip670)\" style=\"stroke:#000000; stroke-linecap:round; stroke-linejoin:round; stroke-width:4; stroke-opacity:1; fill:none\" points=\"1785.46,1423.18 1785.46,1404.28 \"/>\n",
       "<polyline clip-path=\"url(#clip670)\" style=\"stroke:#000000; stroke-linecap:round; stroke-linejoin:round; stroke-width:4; stroke-opacity:1; fill:none\" points=\"2291.97,1423.18 2291.97,1404.28 \"/>\n",
       "<path clip-path=\"url(#clip670)\" d=\"M243.287 1454.1 Q239.676 1454.1 237.848 1457.66 Q236.042 1461.2 236.042 1468.33 Q236.042 1475.44 237.848 1479.01 Q239.676 1482.55 243.287 1482.55 Q246.922 1482.55 248.727 1479.01 Q250.556 1475.44 250.556 1468.33 Q250.556 1461.2 248.727 1457.66 Q246.922 1454.1 243.287 1454.1 M243.287 1450.39 Q249.098 1450.39 252.153 1455 Q255.232 1459.58 255.232 1468.33 Q255.232 1477.06 252.153 1481.67 Q249.098 1486.25 243.287 1486.25 Q237.477 1486.25 234.399 1481.67 Q231.343 1477.06 231.343 1468.33 Q231.343 1459.58 234.399 1455 Q237.477 1450.39 243.287 1450.39 Z\" fill=\"#000000\" fill-rule=\"nonzero\" fill-opacity=\"1\" /><path clip-path=\"url(#clip670)\" d=\"M263.449 1479.7 L268.334 1479.7 L268.334 1485.58 L263.449 1485.58 L263.449 1479.7 Z\" fill=\"#000000\" fill-rule=\"nonzero\" fill-opacity=\"1\" /><path clip-path=\"url(#clip670)\" d=\"M288.519 1454.1 Q284.908 1454.1 283.079 1457.66 Q281.273 1461.2 281.273 1468.33 Q281.273 1475.44 283.079 1479.01 Q284.908 1482.55 288.519 1482.55 Q292.153 1482.55 293.959 1479.01 Q295.787 1475.44 295.787 1468.33 Q295.787 1461.2 293.959 1457.66 Q292.153 1454.1 288.519 1454.1 M288.519 1450.39 Q294.329 1450.39 297.384 1455 Q300.463 1459.58 300.463 1468.33 Q300.463 1477.06 297.384 1481.67 Q294.329 1486.25 288.519 1486.25 Q282.709 1486.25 279.63 1481.67 Q276.574 1477.06 276.574 1468.33 Q276.574 1459.58 279.63 1455 Q282.709 1450.39 288.519 1450.39 Z\" fill=\"#000000\" fill-rule=\"nonzero\" fill-opacity=\"1\" /><path clip-path=\"url(#clip670)\" d=\"M744.157 1481.64 L760.476 1481.64 L760.476 1485.58 L738.532 1485.58 L738.532 1481.64 Q741.194 1478.89 745.777 1474.26 Q750.384 1469.61 751.564 1468.27 Q753.81 1465.74 754.689 1464.01 Q755.592 1462.25 755.592 1460.56 Q755.592 1457.8 753.648 1456.07 Q751.726 1454.33 748.625 1454.33 Q746.426 1454.33 743.972 1455.09 Q741.541 1455.86 738.764 1457.41 L738.764 1452.69 Q741.588 1451.55 744.041 1450.97 Q746.495 1450.39 748.532 1450.39 Q753.902 1450.39 757.097 1453.08 Q760.291 1455.77 760.291 1460.26 Q760.291 1462.39 759.481 1464.31 Q758.694 1466.2 756.588 1468.8 Q756.009 1469.47 752.907 1472.69 Q749.805 1475.88 744.157 1481.64 Z\" fill=\"#000000\" fill-rule=\"nonzero\" fill-opacity=\"1\" /><path clip-path=\"url(#clip670)\" d=\"M770.291 1479.7 L775.175 1479.7 L775.175 1485.58 L770.291 1485.58 L770.291 1479.7 Z\" fill=\"#000000\" fill-rule=\"nonzero\" fill-opacity=\"1\" /><path clip-path=\"url(#clip670)\" d=\"M785.407 1451.02 L803.763 1451.02 L803.763 1454.96 L789.689 1454.96 L789.689 1463.43 Q790.708 1463.08 791.726 1462.92 Q792.745 1462.73 793.763 1462.73 Q799.55 1462.73 802.93 1465.9 Q806.309 1469.08 806.309 1474.49 Q806.309 1480.07 802.837 1483.17 Q799.365 1486.25 793.046 1486.25 Q790.87 1486.25 788.601 1485.88 Q786.356 1485.51 783.948 1484.77 L783.948 1480.07 Q786.032 1481.2 788.254 1481.76 Q790.476 1482.32 792.953 1482.32 Q796.958 1482.32 799.296 1480.21 Q801.634 1478.1 801.634 1474.49 Q801.634 1470.88 799.296 1468.77 Q796.958 1466.67 792.953 1466.67 Q791.078 1466.67 789.203 1467.08 Q787.351 1467.5 785.407 1468.38 L785.407 1451.02 Z\" fill=\"#000000\" fill-rule=\"nonzero\" fill-opacity=\"1\" /><path clip-path=\"url(#clip670)\" d=\"M1246.1 1451.02 L1264.46 1451.02 L1264.46 1454.96 L1250.39 1454.96 L1250.39 1463.43 Q1251.4 1463.08 1252.42 1462.92 Q1253.44 1462.73 1254.46 1462.73 Q1260.25 1462.73 1263.63 1465.9 Q1267.01 1469.08 1267.01 1474.49 Q1267.01 1480.07 1263.53 1483.17 Q1260.06 1486.25 1253.74 1486.25 Q1251.57 1486.25 1249.3 1485.88 Q1247.05 1485.51 1244.64 1484.77 L1244.64 1480.07 Q1246.73 1481.2 1248.95 1481.76 Q1251.17 1482.32 1253.65 1482.32 Q1257.65 1482.32 1259.99 1480.21 Q1262.33 1478.1 1262.33 1474.49 Q1262.33 1470.88 1259.99 1468.77 Q1257.65 1466.67 1253.65 1466.67 Q1251.77 1466.67 1249.9 1467.08 Q1248.05 1467.5 1246.1 1468.38 L1246.1 1451.02 Z\" fill=\"#000000\" fill-rule=\"nonzero\" fill-opacity=\"1\" /><path clip-path=\"url(#clip670)\" d=\"M1276.22 1479.7 L1281.1 1479.7 L1281.1 1485.58 L1276.22 1485.58 L1276.22 1479.7 Z\" fill=\"#000000\" fill-rule=\"nonzero\" fill-opacity=\"1\" /><path clip-path=\"url(#clip670)\" d=\"M1301.29 1454.1 Q1297.68 1454.1 1295.85 1457.66 Q1294.04 1461.2 1294.04 1468.33 Q1294.04 1475.44 1295.85 1479.01 Q1297.68 1482.55 1301.29 1482.55 Q1304.92 1482.55 1306.73 1479.01 Q1308.56 1475.44 1308.56 1468.33 Q1308.56 1461.2 1306.73 1457.66 Q1304.92 1454.1 1301.29 1454.1 M1301.29 1450.39 Q1307.1 1450.39 1310.15 1455 Q1313.23 1459.58 1313.23 1468.33 Q1313.23 1477.06 1310.15 1481.67 Q1307.1 1486.25 1301.29 1486.25 Q1295.48 1486.25 1292.4 1481.67 Q1289.34 1477.06 1289.34 1468.33 Q1289.34 1459.58 1292.4 1455 Q1295.48 1450.39 1301.29 1450.39 Z\" fill=\"#000000\" fill-rule=\"nonzero\" fill-opacity=\"1\" /><path clip-path=\"url(#clip670)\" d=\"M1751.78 1451.02 L1774 1451.02 L1774 1453.01 L1761.45 1485.58 L1756.57 1485.58 L1768.37 1454.96 L1751.78 1454.96 L1751.78 1451.02 Z\" fill=\"#000000\" fill-rule=\"nonzero\" fill-opacity=\"1\" /><path clip-path=\"url(#clip670)\" d=\"M1783.12 1479.7 L1788 1479.7 L1788 1485.58 L1783.12 1485.58 L1783.12 1479.7 Z\" fill=\"#000000\" fill-rule=\"nonzero\" fill-opacity=\"1\" /><path clip-path=\"url(#clip670)\" d=\"M1798.23 1451.02 L1816.59 1451.02 L1816.59 1454.96 L1802.52 1454.96 L1802.52 1463.43 Q1803.53 1463.08 1804.55 1462.92 Q1805.57 1462.73 1806.59 1462.73 Q1812.38 1462.73 1815.76 1465.9 Q1819.14 1469.08 1819.14 1474.49 Q1819.14 1480.07 1815.66 1483.17 Q1812.19 1486.25 1805.87 1486.25 Q1803.7 1486.25 1801.43 1485.88 Q1799.18 1485.51 1796.78 1484.77 L1796.78 1480.07 Q1798.86 1481.2 1801.08 1481.76 Q1803.3 1482.32 1805.78 1482.32 Q1809.78 1482.32 1812.12 1480.21 Q1814.46 1478.1 1814.46 1474.49 Q1814.46 1470.88 1812.12 1468.77 Q1809.78 1466.67 1805.78 1466.67 Q1803.91 1466.67 1802.03 1467.08 Q1800.18 1467.5 1798.23 1468.38 L1798.23 1451.02 Z\" fill=\"#000000\" fill-rule=\"nonzero\" fill-opacity=\"1\" /><path clip-path=\"url(#clip670)\" d=\"M2244.05 1481.64 L2251.68 1481.64 L2251.68 1455.28 L2243.37 1456.95 L2243.37 1452.69 L2251.64 1451.02 L2256.31 1451.02 L2256.31 1481.64 L2263.95 1481.64 L2263.95 1485.58 L2244.05 1485.58 L2244.05 1481.64 Z\" fill=\"#000000\" fill-rule=\"nonzero\" fill-opacity=\"1\" /><path clip-path=\"url(#clip670)\" d=\"M2283.4 1454.1 Q2279.79 1454.1 2277.96 1457.66 Q2276.15 1461.2 2276.15 1468.33 Q2276.15 1475.44 2277.96 1479.01 Q2279.79 1482.55 2283.4 1482.55 Q2287.03 1482.55 2288.84 1479.01 Q2290.67 1475.44 2290.67 1468.33 Q2290.67 1461.2 2288.84 1457.66 Q2287.03 1454.1 2283.4 1454.1 M2283.4 1450.39 Q2289.21 1450.39 2292.26 1455 Q2295.34 1459.58 2295.34 1468.33 Q2295.34 1477.06 2292.26 1481.67 Q2289.21 1486.25 2283.4 1486.25 Q2277.59 1486.25 2274.51 1481.67 Q2271.45 1477.06 2271.45 1468.33 Q2271.45 1459.58 2274.51 1455 Q2277.59 1450.39 2283.4 1450.39 Z\" fill=\"#000000\" fill-rule=\"nonzero\" fill-opacity=\"1\" /><path clip-path=\"url(#clip670)\" d=\"M2303.56 1479.7 L2308.44 1479.7 L2308.44 1485.58 L2303.56 1485.58 L2303.56 1479.7 Z\" fill=\"#000000\" fill-rule=\"nonzero\" fill-opacity=\"1\" /><path clip-path=\"url(#clip670)\" d=\"M2328.63 1454.1 Q2325.02 1454.1 2323.19 1457.66 Q2321.38 1461.2 2321.38 1468.33 Q2321.38 1475.44 2323.19 1479.01 Q2325.02 1482.55 2328.63 1482.55 Q2332.26 1482.55 2334.07 1479.01 Q2335.9 1475.44 2335.9 1468.33 Q2335.9 1461.2 2334.07 1457.66 Q2332.26 1454.1 2328.63 1454.1 M2328.63 1450.39 Q2334.44 1450.39 2337.49 1455 Q2340.57 1459.58 2340.57 1468.33 Q2340.57 1477.06 2337.49 1481.67 Q2334.44 1486.25 2328.63 1486.25 Q2322.82 1486.25 2319.74 1481.67 Q2316.68 1477.06 2316.68 1468.33 Q2316.68 1459.58 2319.74 1455 Q2322.82 1450.39 2328.63 1450.39 Z\" fill=\"#000000\" fill-rule=\"nonzero\" fill-opacity=\"1\" /><path clip-path=\"url(#clip670)\" d=\"M1180.25 1522.27 L1180.25 1532.4 L1192.32 1532.4 L1192.32 1536.95 L1180.25 1536.95 L1180.25 1556.3 Q1180.25 1560.66 1181.43 1561.9 Q1182.64 1563.14 1186.3 1563.14 L1192.32 1563.14 L1192.32 1568.04 L1186.3 1568.04 Q1179.52 1568.04 1176.94 1565.53 Q1174.37 1562.98 1174.37 1556.3 L1174.37 1536.95 L1170.07 1536.95 L1170.07 1532.4 L1174.37 1532.4 L1174.37 1522.27 L1180.25 1522.27 Z\" fill=\"#000000\" fill-rule=\"nonzero\" fill-opacity=\"1\" /><path clip-path=\"url(#clip670)\" d=\"M1200.02 1532.4 L1205.88 1532.4 L1205.88 1568.04 L1200.02 1568.04 L1200.02 1532.4 M1200.02 1518.52 L1205.88 1518.52 L1205.88 1525.93 L1200.02 1525.93 L1200.02 1518.52 Z\" fill=\"#000000\" fill-rule=\"nonzero\" fill-opacity=\"1\" /><path clip-path=\"url(#clip670)\" d=\"M1245.88 1539.24 Q1248.08 1535.29 1251.14 1533.41 Q1254.19 1531.54 1258.33 1531.54 Q1263.9 1531.54 1266.92 1535.45 Q1269.95 1539.33 1269.95 1546.53 L1269.95 1568.04 L1264.06 1568.04 L1264.06 1546.72 Q1264.06 1541.59 1262.24 1539.11 Q1260.43 1536.63 1256.71 1536.63 Q1252.15 1536.63 1249.51 1539.65 Q1246.87 1542.68 1246.87 1547.9 L1246.87 1568.04 L1240.98 1568.04 L1240.98 1546.72 Q1240.98 1541.56 1239.17 1539.11 Q1237.35 1536.63 1233.57 1536.63 Q1229.08 1536.63 1226.44 1539.68 Q1223.8 1542.71 1223.8 1547.9 L1223.8 1568.04 L1217.91 1568.04 L1217.91 1532.4 L1223.8 1532.4 L1223.8 1537.93 Q1225.8 1534.66 1228.6 1533.1 Q1231.4 1531.54 1235.25 1531.54 Q1239.14 1531.54 1241.84 1533.51 Q1244.58 1535.48 1245.88 1539.24 Z\" fill=\"#000000\" fill-rule=\"nonzero\" fill-opacity=\"1\" /><path clip-path=\"url(#clip670)\" d=\"M1312.12 1548.76 L1312.12 1551.62 L1285.19 1551.62 Q1285.57 1557.67 1288.82 1560.85 Q1292.1 1564 1297.92 1564 Q1301.3 1564 1304.45 1563.17 Q1307.63 1562.35 1310.75 1560.69 L1310.75 1566.23 Q1307.6 1567.57 1304.29 1568.27 Q1300.98 1568.97 1297.57 1568.97 Q1289.04 1568.97 1284.05 1564 Q1279.08 1559.04 1279.08 1550.57 Q1279.08 1541.82 1283.79 1536.69 Q1288.53 1531.54 1296.56 1531.54 Q1303.75 1531.54 1307.92 1536.18 Q1312.12 1540.8 1312.12 1548.76 M1306.26 1547.04 Q1306.2 1542.23 1303.56 1539.37 Q1300.95 1536.5 1296.62 1536.5 Q1291.72 1536.5 1288.76 1539.27 Q1285.83 1542.04 1285.38 1547.07 L1306.26 1547.04 Z\" fill=\"#000000\" fill-rule=\"nonzero\" fill-opacity=\"1\" /><path clip-path=\"url(#clip670)\" d=\"M1323.23 1559.96 L1329.94 1559.96 L1329.94 1565.43 L1324.72 1575.62 L1320.62 1575.62 L1323.23 1565.43 L1323.23 1559.96 Z\" fill=\"#000000\" fill-rule=\"nonzero\" fill-opacity=\"1\" /><path clip-path=\"url(#clip670)\" d=\"M1385.9 1533.45 L1385.9 1538.98 Q1383.42 1537.71 1380.74 1537.07 Q1378.07 1536.44 1375.2 1536.44 Q1370.84 1536.44 1368.65 1537.77 Q1366.48 1539.11 1366.48 1541.79 Q1366.48 1543.82 1368.04 1545 Q1369.6 1546.15 1374.31 1547.2 L1376.32 1547.64 Q1382.56 1548.98 1385.17 1551.43 Q1387.81 1553.85 1387.81 1558.21 Q1387.81 1563.17 1383.86 1566.07 Q1379.95 1568.97 1373.07 1568.97 Q1370.21 1568.97 1367.09 1568.39 Q1364 1567.85 1360.56 1566.74 L1360.56 1560.69 Q1363.81 1562.38 1366.96 1563.24 Q1370.11 1564.07 1373.2 1564.07 Q1377.34 1564.07 1379.56 1562.66 Q1381.79 1561.23 1381.79 1558.65 Q1381.79 1556.27 1380.17 1554.99 Q1378.58 1553.72 1373.13 1552.54 L1371.1 1552.07 Q1365.66 1550.92 1363.24 1548.56 Q1360.82 1546.18 1360.82 1542.04 Q1360.82 1537.01 1364.38 1534.27 Q1367.95 1531.54 1374.5 1531.54 Q1377.75 1531.54 1380.61 1532.01 Q1383.48 1532.49 1385.9 1533.45 Z\" fill=\"#000000\" fill-rule=\"nonzero\" fill-opacity=\"1\" /><polyline clip-path=\"url(#clip670)\" style=\"stroke:#000000; stroke-linecap:round; stroke-linejoin:round; stroke-width:4; stroke-opacity:1; fill:none\" points=\"205.121,1423.18 205.121,123.472 \"/>\n",
       "<polyline clip-path=\"url(#clip670)\" style=\"stroke:#000000; stroke-linecap:round; stroke-linejoin:round; stroke-width:4; stroke-opacity:1; fill:none\" points=\"205.121,1386.4 224.019,1386.4 \"/>\n",
       "<polyline clip-path=\"url(#clip670)\" style=\"stroke:#000000; stroke-linecap:round; stroke-linejoin:round; stroke-width:4; stroke-opacity:1; fill:none\" points=\"205.121,1138.3 224.019,1138.3 \"/>\n",
       "<polyline clip-path=\"url(#clip670)\" style=\"stroke:#000000; stroke-linecap:round; stroke-linejoin:round; stroke-width:4; stroke-opacity:1; fill:none\" points=\"205.121,890.198 224.019,890.198 \"/>\n",
       "<polyline clip-path=\"url(#clip670)\" style=\"stroke:#000000; stroke-linecap:round; stroke-linejoin:round; stroke-width:4; stroke-opacity:1; fill:none\" points=\"205.121,642.099 224.019,642.099 \"/>\n",
       "<polyline clip-path=\"url(#clip670)\" style=\"stroke:#000000; stroke-linecap:round; stroke-linejoin:round; stroke-width:4; stroke-opacity:1; fill:none\" points=\"205.121,394 224.019,394 \"/>\n",
       "<polyline clip-path=\"url(#clip670)\" style=\"stroke:#000000; stroke-linecap:round; stroke-linejoin:round; stroke-width:4; stroke-opacity:1; fill:none\" points=\"205.121,145.9 224.019,145.9 \"/>\n",
       "<path clip-path=\"url(#clip670)\" d=\"M157.177 1372.19 Q153.566 1372.19 151.737 1375.76 Q149.931 1379.3 149.931 1386.43 Q149.931 1393.54 151.737 1397.1 Q153.566 1400.64 157.177 1400.64 Q160.811 1400.64 162.616 1397.1 Q164.445 1393.54 164.445 1386.43 Q164.445 1379.3 162.616 1375.76 Q160.811 1372.19 157.177 1372.19 M157.177 1368.49 Q162.987 1368.49 166.042 1373.1 Q169.121 1377.68 169.121 1386.43 Q169.121 1395.16 166.042 1399.76 Q162.987 1404.35 157.177 1404.35 Q151.366 1404.35 148.288 1399.76 Q145.232 1395.16 145.232 1386.43 Q145.232 1377.68 148.288 1373.1 Q151.366 1368.49 157.177 1368.49 Z\" fill=\"#000000\" fill-rule=\"nonzero\" fill-opacity=\"1\" /><path clip-path=\"url(#clip670)\" d=\"M117.825 1151.64 L125.464 1151.64 L125.464 1125.28 L117.154 1126.94 L117.154 1122.68 L125.418 1121.02 L130.093 1121.02 L130.093 1151.64 L137.732 1151.64 L137.732 1155.58 L117.825 1155.58 L117.825 1151.64 Z\" fill=\"#000000\" fill-rule=\"nonzero\" fill-opacity=\"1\" /><path clip-path=\"url(#clip670)\" d=\"M157.177 1124.1 Q153.566 1124.1 151.737 1127.66 Q149.931 1131.2 149.931 1138.33 Q149.931 1145.44 151.737 1149 Q153.566 1152.54 157.177 1152.54 Q160.811 1152.54 162.616 1149 Q164.445 1145.44 164.445 1138.33 Q164.445 1131.2 162.616 1127.66 Q160.811 1124.1 157.177 1124.1 M157.177 1120.39 Q162.987 1120.39 166.042 1125 Q169.121 1129.58 169.121 1138.33 Q169.121 1147.06 166.042 1151.66 Q162.987 1156.25 157.177 1156.25 Q151.366 1156.25 148.288 1151.66 Q145.232 1147.06 145.232 1138.33 Q145.232 1129.58 148.288 1125 Q151.366 1120.39 157.177 1120.39 Z\" fill=\"#000000\" fill-rule=\"nonzero\" fill-opacity=\"1\" /><path clip-path=\"url(#clip670)\" d=\"M121.043 903.542 L137.362 903.542 L137.362 907.478 L115.418 907.478 L115.418 903.542 Q118.08 900.788 122.663 896.158 Q127.269 891.505 128.45 890.163 Q130.695 887.64 131.575 885.904 Q132.478 884.144 132.478 882.455 Q132.478 879.7 130.533 877.964 Q128.612 876.228 125.51 876.228 Q123.311 876.228 120.857 876.992 Q118.427 877.756 115.649 879.306 L115.649 874.584 Q118.473 873.45 120.927 872.871 Q123.38 872.293 125.418 872.293 Q130.788 872.293 133.982 874.978 Q137.177 877.663 137.177 882.154 Q137.177 884.283 136.367 886.205 Q135.579 888.103 133.473 890.695 Q132.894 891.367 129.792 894.584 Q126.691 897.779 121.043 903.542 Z\" fill=\"#000000\" fill-rule=\"nonzero\" fill-opacity=\"1\" /><path clip-path=\"url(#clip670)\" d=\"M157.177 875.996 Q153.566 875.996 151.737 879.561 Q149.931 883.103 149.931 890.232 Q149.931 897.339 151.737 900.904 Q153.566 904.445 157.177 904.445 Q160.811 904.445 162.616 900.904 Q164.445 897.339 164.445 890.232 Q164.445 883.103 162.616 879.561 Q160.811 875.996 157.177 875.996 M157.177 872.293 Q162.987 872.293 166.042 876.899 Q169.121 881.482 169.121 890.232 Q169.121 898.959 166.042 903.566 Q162.987 908.149 157.177 908.149 Q151.366 908.149 148.288 903.566 Q145.232 898.959 145.232 890.232 Q145.232 881.482 148.288 876.899 Q151.366 872.293 157.177 872.293 Z\" fill=\"#000000\" fill-rule=\"nonzero\" fill-opacity=\"1\" /><path clip-path=\"url(#clip670)\" d=\"M131.181 640.744 Q134.538 641.462 136.413 643.73 Q138.311 645.999 138.311 649.332 Q138.311 654.448 134.792 657.249 Q131.274 660.05 124.793 660.05 Q122.617 660.05 120.302 659.61 Q118.01 659.193 115.556 658.337 L115.556 653.823 Q117.501 654.957 119.816 655.536 Q122.13 656.115 124.654 656.115 Q129.052 656.115 131.343 654.379 Q133.658 652.642 133.658 649.332 Q133.658 646.277 131.505 644.564 Q129.376 642.828 125.556 642.828 L121.529 642.828 L121.529 638.985 L125.742 638.985 Q129.191 638.985 131.019 637.619 Q132.848 636.231 132.848 633.638 Q132.848 630.976 130.95 629.564 Q129.075 628.129 125.556 628.129 Q123.635 628.129 121.436 628.545 Q119.237 628.962 116.598 629.842 L116.598 625.675 Q119.26 624.934 121.575 624.564 Q123.913 624.194 125.973 624.194 Q131.297 624.194 134.399 626.624 Q137.501 629.031 137.501 633.152 Q137.501 636.022 135.857 638.013 Q134.214 639.981 131.181 640.744 Z\" fill=\"#000000\" fill-rule=\"nonzero\" fill-opacity=\"1\" /><path clip-path=\"url(#clip670)\" d=\"M157.177 627.897 Q153.566 627.897 151.737 631.462 Q149.931 635.004 149.931 642.133 Q149.931 649.24 151.737 652.805 Q153.566 656.346 157.177 656.346 Q160.811 656.346 162.616 652.805 Q164.445 649.24 164.445 642.133 Q164.445 635.004 162.616 631.462 Q160.811 627.897 157.177 627.897 M157.177 624.194 Q162.987 624.194 166.042 628.8 Q169.121 633.383 169.121 642.133 Q169.121 650.86 166.042 655.467 Q162.987 660.05 157.177 660.05 Q151.366 660.05 148.288 655.467 Q145.232 650.86 145.232 642.133 Q145.232 633.383 148.288 628.8 Q151.366 624.194 157.177 624.194 Z\" fill=\"#000000\" fill-rule=\"nonzero\" fill-opacity=\"1\" /><path clip-path=\"url(#clip670)\" d=\"M129.862 380.794 L118.056 399.243 L129.862 399.243 L129.862 380.794 M128.635 376.72 L134.515 376.72 L134.515 399.243 L139.445 399.243 L139.445 403.131 L134.515 403.131 L134.515 411.28 L129.862 411.28 L129.862 403.131 L114.26 403.131 L114.26 398.618 L128.635 376.72 Z\" fill=\"#000000\" fill-rule=\"nonzero\" fill-opacity=\"1\" /><path clip-path=\"url(#clip670)\" d=\"M157.177 379.798 Q153.566 379.798 151.737 383.363 Q149.931 386.905 149.931 394.034 Q149.931 401.141 151.737 404.705 Q153.566 408.247 157.177 408.247 Q160.811 408.247 162.616 404.705 Q164.445 401.141 164.445 394.034 Q164.445 386.905 162.616 383.363 Q160.811 379.798 157.177 379.798 M157.177 376.095 Q162.987 376.095 166.042 380.701 Q169.121 385.284 169.121 394.034 Q169.121 402.761 166.042 407.367 Q162.987 411.951 157.177 411.951 Q151.366 411.951 148.288 407.367 Q145.232 402.761 145.232 394.034 Q145.232 385.284 148.288 380.701 Q151.366 376.095 157.177 376.095 Z\" fill=\"#000000\" fill-rule=\"nonzero\" fill-opacity=\"1\" /><path clip-path=\"url(#clip670)\" d=\"M117.061 128.62 L135.417 128.62 L135.417 132.556 L121.343 132.556 L121.343 141.028 Q122.362 140.681 123.38 140.519 Q124.399 140.333 125.418 140.333 Q131.205 140.333 134.584 143.505 Q137.964 146.676 137.964 152.093 Q137.964 157.671 134.492 160.773 Q131.019 163.852 124.7 163.852 Q122.524 163.852 120.255 163.481 Q118.01 163.111 115.603 162.37 L115.603 157.671 Q117.686 158.805 119.908 159.361 Q122.13 159.917 124.607 159.917 Q128.612 159.917 130.95 157.81 Q133.288 155.704 133.288 152.093 Q133.288 148.481 130.95 146.375 Q128.612 144.269 124.607 144.269 Q122.732 144.269 120.857 144.685 Q119.006 145.102 117.061 145.981 L117.061 128.62 Z\" fill=\"#000000\" fill-rule=\"nonzero\" fill-opacity=\"1\" /><path clip-path=\"url(#clip670)\" d=\"M157.177 131.699 Q153.566 131.699 151.737 135.264 Q149.931 138.806 149.931 145.935 Q149.931 153.042 151.737 156.606 Q153.566 160.148 157.177 160.148 Q160.811 160.148 162.616 156.606 Q164.445 153.042 164.445 145.935 Q164.445 138.806 162.616 135.264 Q160.811 131.699 157.177 131.699 M157.177 127.995 Q162.987 127.995 166.042 132.602 Q169.121 137.185 169.121 145.935 Q169.121 154.662 166.042 159.268 Q162.987 163.852 157.177 163.852 Q151.366 163.852 148.288 159.268 Q145.232 154.662 145.232 145.935 Q145.232 137.185 148.288 132.602 Q151.366 127.995 157.177 127.995 Z\" fill=\"#000000\" fill-rule=\"nonzero\" fill-opacity=\"1\" /><path clip-path=\"url(#clip670)\" d=\"M28.3562 978.572 L28.3562 972.366 L58.275 961.226 L28.3562 950.086 L28.3562 943.879 L64.0042 957.247 L64.0042 965.204 L28.3562 978.572 Z\" fill=\"#000000\" fill-rule=\"nonzero\" fill-opacity=\"1\" /><path clip-path=\"url(#clip670)\" d=\"M44.7161 905.303 L47.5806 905.303 L47.5806 932.23 Q53.6281 931.848 56.8109 928.601 Q59.9619 925.323 59.9619 919.499 Q59.9619 916.125 59.1344 912.974 Q58.3069 909.791 56.6518 906.672 L62.1899 906.672 Q63.5267 909.823 64.227 913.133 Q64.9272 916.443 64.9272 919.849 Q64.9272 928.379 59.9619 933.376 Q54.9967 938.341 46.5303 938.341 Q37.7774 938.341 32.6531 933.63 Q27.4968 928.888 27.4968 920.867 Q27.4968 913.674 32.1438 909.504 Q36.7589 905.303 44.7161 905.303 M42.9973 911.159 Q38.1912 911.223 35.3266 913.865 Q32.4621 916.475 32.4621 920.803 Q32.4621 925.705 35.2312 928.665 Q38.0002 931.593 43.0292 932.039 L42.9973 911.159 Z\" fill=\"#000000\" fill-rule=\"nonzero\" fill-opacity=\"1\" /><path clip-path=\"url(#clip670)\" d=\"M14.479 895.691 L14.479 889.834 L64.0042 889.834 L64.0042 895.691 L14.479 895.691 Z\" fill=\"#000000\" fill-rule=\"nonzero\" fill-opacity=\"1\" /><path clip-path=\"url(#clip670)\" d=\"M32.4621 863.767 Q32.4621 868.477 36.1542 871.215 Q39.8145 873.952 46.212 873.952 Q52.6095 873.952 56.3017 871.246 Q59.9619 868.509 59.9619 863.767 Q59.9619 859.088 56.2698 856.351 Q52.5777 853.613 46.212 853.613 Q39.8781 853.613 36.186 856.351 Q32.4621 859.088 32.4621 863.767 M27.4968 863.767 Q27.4968 856.128 32.4621 851.767 Q37.4273 847.407 46.212 847.407 Q54.9649 847.407 59.9619 851.767 Q64.9272 856.128 64.9272 863.767 Q64.9272 871.437 59.9619 875.798 Q54.9649 880.127 46.212 880.127 Q37.4273 880.127 32.4621 875.798 Q27.4968 871.437 27.4968 863.767 Z\" fill=\"#000000\" fill-rule=\"nonzero\" fill-opacity=\"1\" /><path clip-path=\"url(#clip670)\" d=\"M29.7248 812.045 L35.1993 812.045 Q33.8307 814.528 33.1623 817.042 Q32.4621 819.525 32.4621 822.071 Q32.4621 827.769 36.0905 830.92 Q39.6872 834.071 46.212 834.071 Q52.7369 834.071 56.3653 830.92 Q59.9619 827.769 59.9619 822.071 Q59.9619 819.525 59.2935 817.042 Q58.5933 814.528 57.2247 812.045 L62.6355 812.045 Q63.7814 814.496 64.3543 817.138 Q64.9272 819.748 64.9272 822.708 Q64.9272 830.761 59.8664 835.503 Q54.8057 840.245 46.212 840.245 Q37.491 840.245 32.4939 835.471 Q27.4968 830.665 27.4968 822.326 Q27.4968 819.621 28.0697 817.042 Q28.6108 814.464 29.7248 812.045 Z\" fill=\"#000000\" fill-rule=\"nonzero\" fill-opacity=\"1\" /><path clip-path=\"url(#clip670)\" d=\"M28.3562 801.86 L28.3562 796.004 L64.0042 796.004 L64.0042 801.86 L28.3562 801.86 M14.479 801.86 L14.479 796.004 L21.895 796.004 L21.895 801.86 L14.479 801.86 Z\" fill=\"#000000\" fill-rule=\"nonzero\" fill-opacity=\"1\" /><path clip-path=\"url(#clip670)\" d=\"M18.2347 777.957 L28.3562 777.957 L28.3562 765.894 L32.9077 765.894 L32.9077 777.957 L52.2594 777.957 Q56.6199 777.957 57.8613 776.779 Q59.1026 775.57 59.1026 771.91 L59.1026 765.894 L64.0042 765.894 L64.0042 771.91 Q64.0042 778.689 61.4897 781.267 Q58.9434 783.845 52.2594 783.845 L32.9077 783.845 L32.9077 788.142 L28.3562 788.142 L28.3562 783.845 L18.2347 783.845 L18.2347 777.957 Z\" fill=\"#000000\" fill-rule=\"nonzero\" fill-opacity=\"1\" /><path clip-path=\"url(#clip670)\" d=\"M67.3143 743.359 Q73.68 745.842 75.6216 748.197 Q77.5631 750.553 77.5631 754.499 L77.5631 759.178 L72.6615 759.178 L72.6615 755.741 Q72.6615 753.322 71.5157 751.985 Q70.3699 750.648 66.1048 749.025 L63.4312 747.975 L28.3562 762.393 L28.3562 756.186 L56.238 745.046 L28.3562 733.906 L28.3562 727.7 L67.3143 743.359 Z\" fill=\"#000000\" fill-rule=\"nonzero\" fill-opacity=\"1\" /><path clip-path=\"url(#clip670)\" d=\"M55.9197 718.119 L55.9197 711.404 L61.3942 711.404 L71.5793 716.623 L71.5793 720.729 L61.3942 718.119 L55.9197 718.119 Z\" fill=\"#000000\" fill-rule=\"nonzero\" fill-opacity=\"1\" /><path clip-path=\"url(#clip670)\" d=\"M35.1993 650.42 Q31.2526 648.224 29.3747 645.168 Q27.4968 642.113 27.4968 637.975 Q27.4968 632.405 31.4117 629.381 Q35.2948 626.358 42.4881 626.358 L64.0042 626.358 L64.0042 632.246 L42.679 632.246 Q37.5546 632.246 35.072 634.06 Q32.5894 635.874 32.5894 639.598 Q32.5894 644.15 35.6131 646.792 Q38.6368 649.433 43.8567 649.433 L64.0042 649.433 L64.0042 655.322 L42.679 655.322 Q37.5228 655.322 35.072 657.136 Q32.5894 658.95 32.5894 662.738 Q32.5894 667.226 35.6449 669.867 Q38.6686 672.509 43.8567 672.509 L64.0042 672.509 L64.0042 678.397 L28.3562 678.397 L28.3562 672.509 L33.8944 672.509 Q30.616 670.504 29.0564 667.703 Q27.4968 664.902 27.4968 661.051 Q27.4968 657.168 29.4702 654.462 Q31.4436 651.725 35.1993 650.42 Z\" fill=\"#000000\" fill-rule=\"nonzero\" fill-opacity=\"1\" /><path clip-path=\"url(#clip670)\" d=\"M16.4842 604.269 L16.4842 598.858 L70.0516 615.409 L70.0516 620.82 L16.4842 604.269 Z\" fill=\"#000000\" fill-rule=\"nonzero\" fill-opacity=\"1\" /><path clip-path=\"url(#clip670)\" d=\"M29.4065 569.989 L34.9447 569.989 Q33.6716 572.472 33.035 575.146 Q32.3984 577.819 32.3984 580.684 Q32.3984 585.044 33.7352 587.24 Q35.072 589.405 37.7456 589.405 Q39.7826 589.405 40.9603 587.845 Q42.1061 586.286 43.1565 581.575 L43.6021 579.57 Q44.9389 573.331 47.3897 570.721 Q49.8086 568.08 54.1691 568.08 Q59.1344 568.08 62.0308 572.026 Q64.9272 575.941 64.9272 582.816 Q64.9272 585.681 64.3543 588.8 Q63.8132 591.887 62.6992 595.325 L56.6518 595.325 Q58.3387 592.078 59.198 588.927 Q60.0256 585.776 60.0256 582.689 Q60.0256 578.551 58.6251 576.323 Q57.1929 574.095 54.6147 574.095 Q52.2276 574.095 50.9545 575.719 Q49.6813 577.31 48.5037 582.753 L48.0262 584.79 Q46.8804 590.232 44.5251 592.651 Q42.138 595.07 38.0002 595.07 Q32.9713 595.07 30.2341 591.505 Q27.4968 587.941 27.4968 581.384 Q27.4968 578.138 27.9743 575.273 Q28.4517 572.408 29.4065 569.989 Z\" fill=\"#000000\" fill-rule=\"nonzero\" fill-opacity=\"1\" /><path clip-path=\"url(#clip670)\" d=\"M943.827 18.8205 L943.827 41.5461 L954.117 41.5461 Q959.828 41.5461 962.948 38.5889 Q966.067 35.6318 966.067 30.163 Q966.067 24.7348 962.948 21.7777 Q959.828 18.8205 954.117 18.8205 L943.827 18.8205 M935.645 12.096 L954.117 12.096 Q964.284 12.096 969.47 16.714 Q974.695 21.2916 974.695 30.163 Q974.695 39.1155 969.47 43.6931 Q964.284 48.2706 954.117 48.2706 L943.827 48.2706 L943.827 72.576 L935.645 72.576 L935.645 12.096 Z\" fill=\"#000000\" fill-rule=\"nonzero\" fill-opacity=\"1\" /><path clip-path=\"url(#clip670)\" d=\"M985.349 9.54393 L992.803 9.54393 L992.803 72.576 L985.349 72.576 L985.349 9.54393 Z\" fill=\"#000000\" fill-rule=\"nonzero\" fill-opacity=\"1\" /><path clip-path=\"url(#clip670)\" d=\"M1025.98 32.4315 Q1019.98 32.4315 1016.5 37.1306 Q1013.02 41.7891 1013.02 49.9314 Q1013.02 58.0738 1016.46 62.7728 Q1019.94 67.4314 1025.98 67.4314 Q1031.93 67.4314 1035.42 62.7323 Q1038.9 58.0333 1038.9 49.9314 Q1038.9 41.8701 1035.42 37.1711 Q1031.93 32.4315 1025.98 32.4315 M1025.98 26.1121 Q1035.7 26.1121 1041.25 32.4315 Q1046.8 38.7509 1046.8 49.9314 Q1046.8 61.0714 1041.25 67.4314 Q1035.7 73.7508 1025.98 73.7508 Q1016.22 73.7508 1010.67 67.4314 Q1005.16 61.0714 1005.16 49.9314 Q1005.16 38.7509 1010.67 32.4315 Q1016.22 26.1121 1025.98 26.1121 Z\" fill=\"#000000\" fill-rule=\"nonzero\" fill-opacity=\"1\" /><path clip-path=\"url(#clip670)\" d=\"M1066.53 14.324 L1066.53 27.2059 L1081.88 27.2059 L1081.88 32.9987 L1066.53 32.9987 L1066.53 57.6282 Q1066.53 63.1779 1068.03 64.7578 Q1069.57 66.3376 1074.23 66.3376 L1081.88 66.3376 L1081.88 72.576 L1074.23 72.576 Q1065.6 72.576 1062.32 69.3758 Q1059.04 66.1351 1059.04 57.6282 L1059.04 32.9987 L1053.57 32.9987 L1053.57 27.2059 L1059.04 27.2059 L1059.04 14.324 L1066.53 14.324 Z\" fill=\"#000000\" fill-rule=\"nonzero\" fill-opacity=\"1\" /><path clip-path=\"url(#clip670)\" d=\"M1135.64 32.4315 Q1129.64 32.4315 1126.16 37.1306 Q1122.67 41.7891 1122.67 49.9314 Q1122.67 58.0738 1126.12 62.7728 Q1129.6 67.4314 1135.64 67.4314 Q1141.59 67.4314 1145.08 62.7323 Q1148.56 58.0333 1148.56 49.9314 Q1148.56 41.8701 1145.08 37.1711 Q1141.59 32.4315 1135.64 32.4315 M1135.64 26.1121 Q1145.36 26.1121 1150.91 32.4315 Q1156.46 38.7509 1156.46 49.9314 Q1156.46 61.0714 1150.91 67.4314 Q1145.36 73.7508 1135.64 73.7508 Q1125.88 73.7508 1120.33 67.4314 Q1114.82 61.0714 1114.82 49.9314 Q1114.82 38.7509 1120.33 32.4315 Q1125.88 26.1121 1135.64 26.1121 Z\" fill=\"#000000\" fill-rule=\"nonzero\" fill-opacity=\"1\" /><path clip-path=\"url(#clip670)\" d=\"M1191.78 9.54393 L1191.78 15.7418 L1184.65 15.7418 Q1180.64 15.7418 1179.06 17.3622 Q1177.52 18.9825 1177.52 23.1955 L1177.52 27.2059 L1189.8 27.2059 L1189.8 32.9987 L1177.52 32.9987 L1177.52 72.576 L1170.03 72.576 L1170.03 32.9987 L1162.9 32.9987 L1162.9 27.2059 L1170.03 27.2059 L1170.03 24.0462 Q1170.03 16.471 1173.55 13.0277 Q1177.08 9.54393 1184.73 9.54393 L1191.78 9.54393 Z\" fill=\"#000000\" fill-rule=\"nonzero\" fill-opacity=\"1\" /><path clip-path=\"url(#clip670)\" d=\"M1219.05 27.2059 L1226.95 27.2059 L1241.12 65.2844 L1255.3 27.2059 L1263.2 27.2059 L1246.19 72.576 L1236.06 72.576 L1219.05 27.2059 Z\" fill=\"#000000\" fill-rule=\"nonzero\" fill-opacity=\"1\" /><path clip-path=\"url(#clip670)\" d=\"M1294.51 27.2059 L1302.41 27.2059 L1316.59 65.2844 L1330.77 27.2059 L1338.67 27.2059 L1321.66 72.576 L1311.53 72.576 L1294.51 27.2059 Z\" fill=\"#000000\" fill-rule=\"nonzero\" fill-opacity=\"1\" /><path clip-path=\"url(#clip670)\" d=\"M1387.77 48.0275 L1387.77 51.6733 L1353.5 51.6733 Q1353.98 59.3701 1358.11 63.421 Q1362.29 67.4314 1369.7 67.4314 Q1373.99 67.4314 1378 66.3781 Q1382.05 65.3249 1386.02 63.2184 L1386.02 70.267 Q1382.01 71.9684 1377.8 72.8596 Q1373.59 73.7508 1369.25 73.7508 Q1358.4 73.7508 1352.04 67.4314 Q1345.72 61.1119 1345.72 50.3365 Q1345.72 39.1965 1351.71 32.6746 Q1357.75 26.1121 1367.96 26.1121 Q1377.11 26.1121 1382.42 32.0264 Q1387.77 37.9003 1387.77 48.0275 M1380.31 45.84 Q1380.23 39.7232 1376.87 36.0774 Q1373.55 32.4315 1368.04 32.4315 Q1361.8 32.4315 1358.03 35.9558 Q1354.31 39.4801 1353.74 45.8805 L1380.31 45.84 Z\" fill=\"#000000\" fill-rule=\"nonzero\" fill-opacity=\"1\" /><path clip-path=\"url(#clip670)\" d=\"M1426.29 34.1734 Q1425.03 33.4443 1423.54 33.1202 Q1422.08 32.7556 1420.29 32.7556 Q1413.98 32.7556 1410.57 36.8875 Q1407.21 40.9789 1407.21 48.6757 L1407.21 72.576 L1399.72 72.576 L1399.72 27.2059 L1407.21 27.2059 L1407.21 34.2544 Q1409.56 30.1225 1413.33 28.1376 Q1417.09 26.1121 1422.48 26.1121 Q1423.25 26.1121 1424.18 26.2337 Q1425.12 26.3147 1426.25 26.5172 L1426.29 34.1734 Z\" fill=\"#000000\" fill-rule=\"nonzero\" fill-opacity=\"1\" /><path clip-path=\"url(#clip670)\" d=\"M1463.03 28.5427 L1463.03 35.5912 Q1459.87 33.9709 1456.47 33.1607 Q1453.07 32.3505 1449.42 32.3505 Q1443.87 32.3505 1441.08 34.0519 Q1438.32 35.7533 1438.32 39.156 Q1438.32 41.7486 1440.31 43.2475 Q1442.29 44.7058 1448.29 46.0426 L1450.84 46.6097 Q1458.78 48.3111 1462.1 51.4303 Q1465.46 54.509 1465.46 60.0587 Q1465.46 66.3781 1460.44 70.0644 Q1455.46 73.7508 1446.71 73.7508 Q1443.06 73.7508 1439.09 73.0216 Q1435.16 72.3329 1430.79 70.9151 L1430.79 63.2184 Q1434.92 65.3654 1438.93 66.4591 Q1442.94 67.5124 1446.87 67.5124 Q1452.13 67.5124 1454.97 65.73 Q1457.81 63.9071 1457.81 60.6258 Q1457.81 57.5877 1455.74 55.9673 Q1453.71 54.3469 1446.79 52.8481 L1444.2 52.2405 Q1437.27 50.7821 1434.19 47.7845 Q1431.11 44.7463 1431.11 39.4801 Q1431.11 33.0797 1435.65 29.5959 Q1440.18 26.1121 1448.53 26.1121 Q1452.66 26.1121 1456.31 26.7198 Q1459.95 27.3274 1463.03 28.5427 Z\" fill=\"#000000\" fill-rule=\"nonzero\" fill-opacity=\"1\" /><path clip-path=\"url(#clip670)\" d=\"M1476.56 54.671 L1476.56 27.2059 L1484.02 27.2059 L1484.02 54.3874 Q1484.02 60.8284 1486.53 64.0691 Q1489.04 67.2693 1494.06 67.2693 Q1500.1 67.2693 1503.58 63.421 Q1507.11 59.5726 1507.11 52.9291 L1507.11 27.2059 L1514.56 27.2059 L1514.56 72.576 L1507.11 72.576 L1507.11 65.6084 Q1504.39 69.7404 1500.79 71.7658 Q1497.22 73.7508 1492.48 73.7508 Q1484.66 73.7508 1480.61 68.8897 Q1476.56 64.0286 1476.56 54.671 M1495.32 26.1121 L1495.32 26.1121 Z\" fill=\"#000000\" fill-rule=\"nonzero\" fill-opacity=\"1\" /><path clip-path=\"url(#clip670)\" d=\"M1558.84 28.5427 L1558.84 35.5912 Q1555.68 33.9709 1552.27 33.1607 Q1548.87 32.3505 1545.22 32.3505 Q1539.67 32.3505 1536.88 34.0519 Q1534.13 35.7533 1534.13 39.156 Q1534.13 41.7486 1536.11 43.2475 Q1538.1 44.7058 1544.09 46.0426 L1546.64 46.6097 Q1554.58 48.3111 1557.9 51.4303 Q1561.27 54.509 1561.27 60.0587 Q1561.27 66.3781 1556.24 70.0644 Q1551.26 73.7508 1542.51 73.7508 Q1538.86 73.7508 1534.89 73.0216 Q1530.97 72.3329 1526.59 70.9151 L1526.59 63.2184 Q1530.72 65.3654 1534.73 66.4591 Q1538.74 67.5124 1542.67 67.5124 Q1547.94 67.5124 1550.77 65.73 Q1553.61 63.9071 1553.61 60.6258 Q1553.61 57.5877 1551.54 55.9673 Q1549.52 54.3469 1542.59 52.8481 L1540 52.2405 Q1533.07 50.7821 1529.99 47.7845 Q1526.91 44.7463 1526.91 39.4801 Q1526.91 33.0797 1531.45 29.5959 Q1535.99 26.1121 1544.33 26.1121 Q1548.47 26.1121 1552.11 26.7198 Q1555.76 27.3274 1558.84 28.5427 Z\" fill=\"#000000\" fill-rule=\"nonzero\" fill-opacity=\"1\" /><path clip-path=\"url(#clip670)\" d=\"M1606.88 14.324 L1606.88 27.2059 L1622.23 27.2059 L1622.23 32.9987 L1606.88 32.9987 L1606.88 57.6282 Q1606.88 63.1779 1608.38 64.7578 Q1609.92 66.3376 1614.58 66.3376 L1622.23 66.3376 L1622.23 72.576 L1614.58 72.576 Q1605.95 72.576 1602.67 69.3758 Q1599.39 66.1351 1599.39 57.6282 L1599.39 32.9987 L1593.92 32.9987 L1593.92 27.2059 L1599.39 27.2059 L1599.39 14.324 L1606.88 14.324 Z\" fill=\"#000000\" fill-rule=\"nonzero\" fill-opacity=\"1\" /><polyline clip-path=\"url(#clip672)\" style=\"stroke:#000000; stroke-linecap:round; stroke-linejoin:round; stroke-width:4; stroke-opacity:1; fill:none\" stroke-dasharray=\"16, 10\" points=\"265.903,1386.4 671.117,921.726 1076.33,564.894 1481.55,342.489 1886.76,221.385 2291.97,160.256 \"/>\n",
       "<path clip-path=\"url(#clip672)\" d=\"M265.903 1370.4 L262.143 1381.21 L250.687 1381.45 L259.823 1388.38 L256.495 1399.34 L265.903 1392.8 L275.311 1399.34 L271.983 1388.38 L281.119 1381.45 L269.663 1381.21 L265.903 1370.4 Z\" fill=\"#ff00ff\" fill-rule=\"evenodd\" fill-opacity=\"1\" stroke=\"#000000\" stroke-opacity=\"1\" stroke-width=\"3.2\"/>\n",
       "<path clip-path=\"url(#clip672)\" d=\"M671.117 905.726 L667.357 916.542 L655.901 916.782 L665.037 923.71 L661.709 934.67 L671.117 928.126 L680.525 934.67 L677.197 923.71 L686.333 916.782 L674.877 916.542 L671.117 905.726 Z\" fill=\"#ff00ff\" fill-rule=\"evenodd\" fill-opacity=\"1\" stroke=\"#000000\" stroke-opacity=\"1\" stroke-width=\"3.2\"/>\n",
       "<path clip-path=\"url(#clip672)\" d=\"M1076.33 548.894 L1072.57 559.71 L1061.12 559.95 L1070.25 566.878 L1066.92 577.838 L1076.33 571.294 L1085.74 577.838 L1082.41 566.878 L1091.55 559.95 L1080.09 559.71 L1076.33 548.894 Z\" fill=\"#ff00ff\" fill-rule=\"evenodd\" fill-opacity=\"1\" stroke=\"#000000\" stroke-opacity=\"1\" stroke-width=\"3.2\"/>\n",
       "<path clip-path=\"url(#clip672)\" d=\"M1481.55 326.489 L1477.79 337.305 L1466.33 337.545 L1475.47 344.473 L1472.14 355.433 L1481.55 348.889 L1490.95 355.433 L1487.63 344.473 L1496.76 337.545 L1485.31 337.305 L1481.55 326.489 Z\" fill=\"#ff00ff\" fill-rule=\"evenodd\" fill-opacity=\"1\" stroke=\"#000000\" stroke-opacity=\"1\" stroke-width=\"3.2\"/>\n",
       "<path clip-path=\"url(#clip672)\" d=\"M1886.76 205.385 L1883 216.201 L1871.54 216.441 L1880.68 223.369 L1877.35 234.329 L1886.76 227.785 L1896.17 234.329 L1892.84 223.369 L1901.98 216.441 L1890.52 216.201 L1886.76 205.385 Z\" fill=\"#ff00ff\" fill-rule=\"evenodd\" fill-opacity=\"1\" stroke=\"#000000\" stroke-opacity=\"1\" stroke-width=\"3.2\"/>\n",
       "<path clip-path=\"url(#clip672)\" d=\"M2291.97 144.256 L2288.21 155.072 L2276.76 155.312 L2285.89 162.24 L2282.57 173.2 L2291.97 166.656 L2301.38 173.2 L2298.05 162.24 L2307.19 155.312 L2295.73 155.072 L2291.97 144.256 Z\" fill=\"#ff00ff\" fill-rule=\"evenodd\" fill-opacity=\"1\" stroke=\"#000000\" stroke-opacity=\"1\" stroke-width=\"3.2\"/>\n",
       "<path clip-path=\"url(#clip670)\" d=\"M276.709 270.476 L543.903 270.476 L543.903 166.796 L276.709 166.796  Z\" fill=\"#ffffff\" fill-rule=\"evenodd\" fill-opacity=\"1\"/>\n",
       "<polyline clip-path=\"url(#clip670)\" style=\"stroke:#000000; stroke-linecap:round; stroke-linejoin:round; stroke-width:4; stroke-opacity:1; fill:none\" points=\"276.709,270.476 543.903,270.476 543.903,166.796 276.709,166.796 276.709,270.476 \"/>\n",
       "<polyline clip-path=\"url(#clip670)\" style=\"stroke:#000000; stroke-linecap:round; stroke-linejoin:round; stroke-width:4; stroke-opacity:1; fill:none\" stroke-dasharray=\"16, 10\" points=\"300.571,218.636 443.747,218.636 \"/>\n",
       "<path clip-path=\"url(#clip670)\" d=\"M372.159 196.541 L366.967 211.477 L351.147 211.808 L363.763 221.375 L359.167 236.511 L372.159 227.474 L385.151 236.511 L380.555 221.375 L393.172 211.808 L377.352 211.477 L372.159 196.541 Z\" fill=\"#ff00ff\" fill-rule=\"evenodd\" fill-opacity=\"1\" stroke=\"#000000\" stroke-opacity=\"1\" stroke-width=\"4.55111\"/>\n",
       "<path clip-path=\"url(#clip670)\" d=\"M481.452 238.323 Q479.647 242.953 477.934 244.365 Q476.221 245.777 473.35 245.777 L469.948 245.777 L469.948 242.212 L472.448 242.212 Q474.207 242.212 475.179 241.379 Q476.151 240.545 477.332 237.443 L478.096 235.499 L467.61 209.99 L472.124 209.99 L480.225 230.268 L488.327 209.99 L492.841 209.99 L481.452 238.323 Z\" fill=\"#000000\" fill-rule=\"nonzero\" fill-opacity=\"1\" /><path clip-path=\"url(#clip670)\" d=\"M500.133 231.981 L507.772 231.981 L507.772 205.615 L499.461 207.282 L499.461 203.022 L507.725 201.356 L512.401 201.356 L512.401 231.981 L520.04 231.981 L520.04 235.916 L500.133 235.916 L500.133 231.981 Z\" fill=\"#000000\" fill-rule=\"nonzero\" fill-opacity=\"1\" /></svg>\n"
      ]
     },
     "execution_count": 31,
     "metadata": {},
     "output_type": "execute_result"
    }
   ],
   "source": [
    "using Plots\n",
    "gr()\n",
    "plot(t, v, title=\"Plot of v versus t\", xlabel=\"time, s\", ylabel=\"velocity, m/s\", linecolor=:black, w=1, marker=:star, markercolor=:magenta, linestyle=:dash)\n"
   ]
  },
  {
   "cell_type": "markdown",
   "id": "28c60666-473d-4728-b30f-d29fb5153630",
   "metadata": {},
   "source": [
    "## Programming with Julia"
   ]
  },
  {
   "cell_type": "markdown",
   "id": "960dcbe8-7bf8-4018-974f-eb5a8c03333e",
   "metadata": {},
   "source": [
    "### Structured Programming"
   ]
  },
  {
   "cell_type": "markdown",
   "id": "61c7132c-ab47-4e40-bcc8-4c337d72aa95",
   "metadata": {},
   "source": [
    "#### Decisions\n",
    "Decisions or Selection are the branching of flow of the programme based on a decision. This heavily includes conditional statements"
   ]
  },
  {
   "cell_type": "markdown",
   "id": "609fb365-7e56-432b-a5f0-e867d03698e7",
   "metadata": {},
   "source": [
    "##### The IF Structure"
   ]
  },
  {
   "cell_type": "code",
   "execution_count": 32,
   "id": "84bf0cea-6a59-41b6-9976-a1901ff1425d",
   "metadata": {},
   "outputs": [
    {
     "data": {
      "text/plain": [
       "false"
      ]
     },
     "execution_count": 32,
     "metadata": {},
     "output_type": "execute_result"
    }
   ],
   "source": [
    "# The if Structure\n",
    "function isEven(a,b)\n",
    "    if (a + b) % 2 == 0\n",
    "        return true\n",
    "    else \n",
    "        return false\n",
    "    end\n",
    "end\n",
    "\n",
    "isEven(3, 4)"
   ]
  },
  {
   "cell_type": "markdown",
   "id": "18fa9991-3df5-4e50-a73d-022164d52eeb",
   "metadata": {},
   "source": [
    "##### The Error Function"
   ]
  },
  {
   "cell_type": "code",
   "execution_count": 33,
   "id": "0ba8e2c3-3d8e-4f3f-b0eb-0b15a036504e",
   "metadata": {},
   "outputs": [
    {
     "ename": "LoadError",
     "evalue": "negative x not allowed",
     "output_type": "error",
     "traceback": [
      "negative x not allowed",
      "",
      "Stacktrace:",
      " [1] error(s::String)",
      "   @ Base ./error.jl:35",
      " [2] true_sqrt(x::Int64)",
      "   @ Main ./In[33]:1",
      " [3] top-level scope",
      "   @ In[33]:3"
     ]
    }
   ],
   "source": [
    "true_sqrt(x) = x >= 0 ? sqrt(x) : error(\"negative x not allowed\")\n",
    "true_sqrt(2)\n",
    "true_sqrt(-1)"
   ]
  },
  {
   "cell_type": "markdown",
   "id": "ba81f453-0d0d-4fa3-9b19-121a4ac312f2",
   "metadata": {},
   "source": [
    "##### Logical Statements\n",
    "\n"
   ]
  },
  {
   "cell_type": "markdown",
   "id": "c3955efe-f1bf-4bd1-8820-8e36165088a1",
   "metadata": {},
   "source": [
    "In Julia, the logical operators and and or are denoted by the symbols \"&&\" and \"||\". \n",
    "\n",
    "Syntax:\n",
    "\n",
    "and : `a && b`\n",
    "\n",
    "or : `a || b`\n",
    "\n",
    "Important to note: The entire logical expression for any statement including \"and\" is only evaluated if a is true. If a is false, b will not be evaluated. \n",
    "\n",
    "Additionally, the logical expressions can only evaluate booleans. Passing integers or emply containers like we do in python will throw an error. The arguments must be explicitly true and false."
   ]
  },
  {
   "cell_type": "code",
   "execution_count": 34,
   "id": "90d416f3-bcd7-4e73-97fe-b7fb6dda69ff",
   "metadata": {},
   "outputs": [
    {
     "ename": "LoadError",
     "evalue": "TypeError: non-boolean (Int64) used in boolean context",
     "output_type": "error",
     "traceback": [
      "TypeError: non-boolean (Int64) used in boolean context",
      "",
      "Stacktrace:",
      " [1] top-level scope",
      "   @ In[34]:1"
     ]
    }
   ],
   "source": [
    "1 && 0"
   ]
  },
  {
   "cell_type": "code",
   "execution_count": 35,
   "id": "0777d82d-5a30-4fe1-a0a6-539ac8bd5143",
   "metadata": {},
   "outputs": [
    {
     "data": {
      "text/plain": [
       "true"
      ]
     },
     "execution_count": 35,
     "metadata": {},
     "output_type": "execute_result"
    }
   ],
   "source": [
    "true && !false  #Negation is done with !"
   ]
  },
  {
   "cell_type": "code",
   "execution_count": 36,
   "id": "1d23b4a3-8603-4eab-9f78-a7f276aa4302",
   "metadata": {},
   "outputs": [
    {
     "data": {
      "text/plain": [
       "true"
      ]
     },
     "execution_count": 36,
     "metadata": {},
     "output_type": "execute_result"
    }
   ],
   "source": [
    "false || true"
   ]
  },
  {
   "cell_type": "markdown",
   "id": "29ba6860-7bb2-44fa-a7af-7f381226604e",
   "metadata": {},
   "source": [
    "##### Ternary Operator\n",
    "The so-called \"ternary operator\", ?:, is closely related to the if-elseif-else syntax, but is used where a conditional choice between single expression values is required, as opposed to conditional execution of longer blocks of code. It gets its name from being the only operator in most languages taking three operands:\n",
    "a ? b : c"
   ]
  },
  {
   "cell_type": "code",
   "execution_count": 37,
   "id": "ba5b2895-37ed-4f11-a0ca-fecb95eee3d0",
   "metadata": {},
   "outputs": [
    {
     "name": "stdout",
     "output_type": "stream",
     "text": [
      "less than\n",
      "not less than\n"
     ]
    }
   ],
   "source": [
    "x = 1; y = 2;\n",
    "\n",
    "println(x < y ? \"less than\" : \"not less than\")\n",
    "\n",
    "\n",
    "x = 1; y = 0;\n",
    "\n",
    "println(x < y ? \"less than\" : \"not less than\")\n"
   ]
  },
  {
   "cell_type": "markdown",
   "id": "c5c6d130-a2ac-4317-ae26-f8830355aa57",
   "metadata": {},
   "source": [
    "#### Loops"
   ]
  },
  {
   "cell_type": "markdown",
   "id": "8f2a7972-5158-40bb-a9af-fc905db114c5",
   "metadata": {},
   "source": [
    "##### For Loop structure"
   ]
  },
  {
   "cell_type": "code",
   "execution_count": 38,
   "id": "10da4af6-f0ee-4ce3-b4d1-79cb4fc3ffa5",
   "metadata": {},
   "outputs": [
    {
     "name": "stdout",
     "output_type": "stream",
     "text": [
      "one\n",
      "two\n",
      "three\n",
      "four\n"
     ]
    }
   ],
   "source": [
    "for i in [\"one\", \"two\", \"three\", \"four\"]\n",
    "    println(i)\n",
    "end\n"
   ]
  },
  {
   "cell_type": "markdown",
   "id": "bafa359f-6d03-4177-a2b2-811bf8b8221c",
   "metadata": {},
   "source": [
    "Opt for vectorization instead of for loops."
   ]
  },
  {
   "cell_type": "code",
   "execution_count": 39,
   "id": "fdd2f0fe-4793-492c-ae32-c1c94c034050",
   "metadata": {},
   "outputs": [
    {
     "name": "stdout",
     "output_type": "stream",
     "text": [
      "1.0\n",
      "0.9800665778412416\n",
      "0.9210609940028851\n",
      "0.8253356149096783\n",
      "0.6967067093471654\n",
      "0.5403023058681398\n",
      "0.3623577544766736\n",
      "0.16996714290024104\n",
      "-0.029199522301288815\n",
      "-0.2272020946930871\n",
      "-0.4161468365471424\n"
     ]
    }
   ],
   "source": [
    "for i in 0:0.2:2\n",
    "    println(cos(i))\n",
    "end"
   ]
  },
  {
   "cell_type": "code",
   "execution_count": 40,
   "id": "f8373852-dd83-4f40-b9e0-9ce97f125e96",
   "metadata": {},
   "outputs": [
    {
     "data": {
      "text/plain": [
       "11-element Vector{Float64}:\n",
       "  1.0\n",
       "  0.9800665778412416\n",
       "  0.9210609940028851\n",
       "  0.8253356149096783\n",
       "  0.6967067093471654\n",
       "  0.5403023058681398\n",
       "  0.3623577544766736\n",
       "  0.16996714290024104\n",
       " -0.029199522301288815\n",
       " -0.2272020946930871\n",
       " -0.4161468365471424"
      ]
     },
     "execution_count": 40,
     "metadata": {},
     "output_type": "execute_result"
    }
   ],
   "source": [
    "t = [0: 0.2: 2;];\n",
    "y = 1 * cos.(t)"
   ]
  },
  {
   "cell_type": "markdown",
   "id": "47895ec5-2987-47dc-aba9-1c1dcf8e3609",
   "metadata": {},
   "source": [
    "##### The While Structure"
   ]
  },
  {
   "cell_type": "code",
   "execution_count": 41,
   "id": "a3bc2dbd-7795-42ee-815b-08d97180f040",
   "metadata": {},
   "outputs": [
    {
     "name": "stdout",
     "output_type": "stream",
     "text": [
      "5\n",
      "2\n",
      "-1\n"
     ]
    }
   ],
   "source": [
    "t = x -> x <= 0\n",
    "\n",
    "x = 8\n",
    "while !t(x)\n",
    "    x-=3\n",
    "    println(x)\n",
    "end\n"
   ]
  },
  {
   "cell_type": "markdown",
   "id": "e09983f7-ddc8-4af1-8f0e-f0fc903f9a90",
   "metadata": {},
   "source": [
    "##### The while ... break Structure"
   ]
  },
  {
   "cell_type": "code",
   "execution_count": 42,
   "id": "22b9c1b0-7fd0-430f-a964-6496cb10d17e",
   "metadata": {},
   "outputs": [
    {
     "name": "stdout",
     "output_type": "stream",
     "text": [
      "5\n",
      "2\n",
      "-1\n"
     ]
    }
   ],
   "source": [
    "t = x -> x != 0\n",
    "x = 8\n",
    "while t(x)\n",
    "    x-=3\n",
    "    println(x)\n",
    "    if x < 0\n",
    "        break\n",
    "    end\n",
    "end\n",
    "    "
   ]
  },
  {
   "cell_type": "code",
   "execution_count": 43,
   "id": "ff9150af-7f6d-4da5-9ca3-52b843c1ab17",
   "metadata": {},
   "outputs": [
    {
     "name": "stdout",
     "output_type": "stream",
     "text": [
      "5\n",
      "2\n",
      "-1\n"
     ]
    }
   ],
   "source": [
    "x = 8\n",
    "while x > 0\n",
    "    x-=3\n",
    "    println(x)\n",
    "    if x < 0\n",
    "        break\n",
    "    end\n",
    "end"
   ]
  },
  {
   "cell_type": "markdown",
   "id": "aeb294cf-749b-4382-9312-36f61700c213",
   "metadata": {},
   "source": [
    "### Nesting and Indentation"
   ]
  },
  {
   "cell_type": "markdown",
   "id": "a0b8f3b7-9a1c-4d2c-bd60-ff2841f65aba",
   "metadata": {},
   "source": [
    "Nesting refers to the embedding of a structure within another. For example:\n"
   ]
  },
  {
   "cell_type": "code",
   "execution_count": 44,
   "id": "cc43a416-8a2e-4910-b595-5d8c5512e506",
   "metadata": {},
   "outputs": [
    {
     "name": "stdout",
     "output_type": "stream",
     "text": [
      "Mon at midday\n",
      "Mon at midnight\n",
      "Tue at midday\n",
      "Tue at midnight\n",
      "Wed at midday\n",
      "Wed at midnight\n"
     ]
    }
   ],
   "source": [
    "for day in [\"Mon\", \"Tue\", \"Wed\"]\n",
    "    for hour in [\"midday\", \"midnight\"]\n",
    "        println(day * \" at \" * hour)\n",
    "    end\n",
    "end\n",
    "    "
   ]
  },
  {
   "cell_type": "markdown",
   "id": "bbd9cb9f-baff-444f-a2ee-fe48cc01d1a5",
   "metadata": {},
   "source": [
    "### Julia Loading"
   ]
  },
  {
   "cell_type": "markdown",
   "id": "cbcf7855-e8f4-41c2-a811-fdd616faff1d",
   "metadata": {},
   "source": [
    "#### Include\n",
    "\n",
    "The include function is used to load and execute the contents of a file. When a Julia `.jl` file (e.g. `compute.jl`) is included in another file(e.g. in `building.jl`)the `compute.jl` is ran/evaluated in the context of the caller. Consequently, the definitions, i.e. functions, variables, structs etc. in `compute.jl` becomes available in the current scope. "
   ]
  },
  {
   "cell_type": "markdown",
   "id": "713fb51b-3604-43b6-863d-fe31e8e1d33d",
   "metadata": {},
   "source": [
    "#### Using\n",
    "\n",
    "The `using` function is used to import and bring modules into the current namespace. When a Julia module is imported using the `using` function, all of the exported definitions, i.e. the types, functions, variables, become available in the current scope"
   ]
  },
  {
   "cell_type": "markdown",
   "id": "3bc7be9b-35e8-40f1-928f-51cdfc662de9",
   "metadata": {},
   "source": [
    "#### Using Vs Include\n",
    "\n",
    "|Feature|`include`|`using`|\n",
    "|---|---|---|\n",
    "|Purpose|Loads and executes code from a file.|Imports a module and its exported symbols.|\n",
    "|Scope of Use|Operates within the current script/module|Operates at the module level.|\n",
    "|File/Module|Works with any file containing Julia code.|Specifically for Julia modules.|\n",
    "|Execution|Executes the code in the included file.|Does not execute code, only imports it.|"
   ]
  },
  {
   "cell_type": "markdown",
   "id": "b5c09a80-f9a3-4dc0-8cc7-f0ab9d9517c2",
   "metadata": {},
   "source": [
    "### Named Tuple"
   ]
  },
  {
   "cell_type": "markdown",
   "id": "cb3f0b11-f2a1-4be4-8525-1663fd950792",
   "metadata": {},
   "source": [
    "In Julia, a named tuple can be created using the `;` symbol inside of parentheses, followed the key-value pairs.\n"
   ]
  },
  {
   "cell_type": "markdown",
   "id": "618444d4-5a92-4913-a705-eef8d609586e",
   "metadata": {},
   "source": [
    "#### Named Tuple Examples"
   ]
  },
  {
   "cell_type": "code",
   "execution_count": 45,
   "id": "cd400990-792a-4234-8ac1-dbb84b0eeb3c",
   "metadata": {},
   "outputs": [
    {
     "data": {
      "text/plain": [
       "(chemistry = 40, biology = 56, calculus = 49)"
      ]
     },
     "execution_count": 45,
     "metadata": {},
     "output_type": "execute_result"
    }
   ],
   "source": [
    "# Simple Example\n",
    "grades = (; chemistry=40, biology=56, calculus=49)"
   ]
  },
  {
   "cell_type": "code",
   "execution_count": 46,
   "id": "82246097-9d1a-4a4d-9022-ebed03ec8a61",
   "metadata": {},
   "outputs": [
    {
     "data": {
      "text/plain": [
       "40"
      ]
     },
     "execution_count": 46,
     "metadata": {},
     "output_type": "execute_result"
    }
   ],
   "source": [
    "# Accessing the values\n",
    "grades.chemistry"
   ]
  },
  {
   "cell_type": "code",
   "execution_count": 47,
   "id": "dc7045ac-4403-41e9-9b33-b8dbbbc2ae49",
   "metadata": {},
   "outputs": [
    {
     "data": {
      "text/plain": [
       "(chemistry = (assignment_1 = 67, assignment_2 = 48), biology = (assignment_1 = 65, assignment_2 = 45))"
      ]
     },
     "execution_count": 47,
     "metadata": {},
     "output_type": "execute_result"
    }
   ],
   "source": [
    "# Nested named tuples\n",
    "gradebook = (; chemistry=(; assignment_1=67, assignment_2=48), biology=(;  assignment_1=65, assignment_2=45))"
   ]
  },
  {
   "cell_type": "code",
   "execution_count": 48,
   "id": "71471357-b0d6-403d-b5f9-ad0f95055a93",
   "metadata": {},
   "outputs": [
    {
     "data": {
      "text/plain": [
       "67"
      ]
     },
     "execution_count": 48,
     "metadata": {},
     "output_type": "execute_result"
    }
   ],
   "source": [
    "# accessing nested named tuples values\n",
    "gradebook.chemistry.assignment_1"
   ]
  },
  {
   "cell_type": "code",
   "execution_count": 49,
   "id": "0acb91a4-84ab-4d73-b647-49d10ae09a74",
   "metadata": {},
   "outputs": [
    {
     "data": {
      "text/plain": [
       "0"
      ]
     },
     "execution_count": 49,
     "metadata": {},
     "output_type": "execute_result"
    }
   ],
   "source": [
    "# Named tuples with functions\n",
    "operations = (; add = (x, y) -> x + y, multiply = (x, y) -> x * y)\n",
    "\n",
    "operations.add(4, -4)"
   ]
  },
  {
   "cell_type": "code",
   "execution_count": 50,
   "id": "a84db16b-957d-450a-be83-eb71c81084bb",
   "metadata": {},
   "outputs": [
    {
     "data": {
      "text/plain": [
       "(leap_yr = true,)"
      ]
     },
     "execution_count": 50,
     "metadata": {},
     "output_type": "execute_result"
    }
   ],
   "source": [
    "# Named tuples with conditions\n",
    "year = 2024\n",
    "\n",
    "leap_year = (; leap_yr = (year % 4 == 0 && year % 100 != 0) || (year % 400 == 0) ? true : false)"
   ]
  },
  {
   "cell_type": "markdown",
   "id": "0de39aaf-05ad-414e-b12e-893aeeb37d25",
   "metadata": {},
   "source": [
    "### Merge Collections"
   ]
  },
  {
   "cell_type": "markdown",
   "id": "f7e9c716-2d9b-4c61-b0b8-4fbbe3bb4a55",
   "metadata": {},
   "source": [
    "In Julia, many collections, i.e. dictionaries, named tuples, etc, can be merged into one using the `merge()` function."
   ]
  },
  {
   "cell_type": "code",
   "execution_count": 51,
   "id": "e902b8fd-ff2a-4341-a4ef-b0c30385fdb8",
   "metadata": {},
   "outputs": [
    {
     "data": {
      "text/plain": [
       "(acids_assignment = 89, moles_assignment = 84, plants_assignment = 96, nephron_assignment = 87)"
      ]
     },
     "execution_count": 51,
     "metadata": {},
     "output_type": "execute_result"
    }
   ],
   "source": [
    "# Example\n",
    "chemistry = (; acids_assignment=89, moles_assignment=84)\n",
    "biology = (; plants_assignment=96, nephron_assignment=87)\n",
    "calculus = (;)\n",
    "gradebook = merge(chemistry, biology, calculus)"
   ]
  },
  {
   "cell_type": "code",
   "execution_count": 52,
   "id": "33c4ff8c-a177-4cdf-85c9-2ee6e7f6c665",
   "metadata": {},
   "outputs": [
    {
     "data": {
      "text/plain": [
       "Dict{Any, Any} with 4 entries:\n",
       "  \"plants_assignment\"  => 96\n",
       "  \"moles_assignment\"   => 84\n",
       "  \"acids_assignment\"   => 89\n",
       "  \"nephron_assignment\" => 87"
      ]
     },
     "execution_count": 52,
     "metadata": {},
     "output_type": "execute_result"
    }
   ],
   "source": [
    "chemistry = Dict(\"acids_assignment\"=>89, \"moles_assignment\"=>84)\n",
    "biology = Dict(\"plants_assignment\"=>96, \"nephron_assignment\"=>87)\n",
    "calculus = Dict()\n",
    "gradebook = merge(chemistry, biology, calculus)"
   ]
  },
  {
   "cell_type": "markdown",
   "id": "fd90be2c-987d-41aa-8bf8-1d1d14348f31",
   "metadata": {},
   "source": [
    "Please note that the merge function overwrites any key that appears in more than one collection."
   ]
  },
  {
   "cell_type": "code",
   "execution_count": 53,
   "id": "cf4002cc-df55-4333-8559-2744cef353ef",
   "metadata": {},
   "outputs": [
    {
     "data": {
      "text/plain": [
       "(a = 89, b = 96, c = 87)"
      ]
     },
     "execution_count": 53,
     "metadata": {},
     "output_type": "execute_result"
    }
   ],
   "source": [
    "chemistry = (; a=89, b=84)\n",
    "biology = (; b=96, c=87)\n",
    "gradebook=merge(chemistry, biology)"
   ]
  },
  {
   "cell_type": "code",
   "execution_count": null,
   "id": "93735644-e725-4e3b-a331-d8f550923380",
   "metadata": {},
   "outputs": [],
   "source": []
  }
 ],
 "metadata": {
  "kernelspec": {
   "display_name": "Julia 1.11.2",
   "language": "julia",
   "name": "julia-1.11"
  },
  "language_info": {
   "file_extension": ".jl",
   "mimetype": "application/julia",
   "name": "julia",
   "version": "1.11.2"
  }
 },
 "nbformat": 4,
 "nbformat_minor": 5
}
